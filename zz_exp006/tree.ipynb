{
 "cells": [
  {
   "cell_type": "code",
   "execution_count": 2,
   "metadata": {},
   "outputs": [],
   "source": [
    "import pandas as pd\n",
    "from scripts import *"
   ]
  },
  {
   "cell_type": "code",
   "execution_count": 3,
   "metadata": {},
   "outputs": [
    {
     "name": "stdout",
     "output_type": "stream",
     "text": [
      "['TS_5_4', 'TS_69_2', 'TS_6_4']\n",
      " TS_6_4 virus-like-particlee\n"
     ]
    },
    {
     "data": {
      "text/plain": [
       "(         particle_type    P    T  hit  miss   fp  precision    recall  \\\n",
       " 0         apo-ferritin  199  139  124    15   75   0.623116  0.892086   \n",
       " 1         beta-amylase   80   31   18    13   62   0.225000  0.580645   \n",
       " 2   beta-galactosidase  176   40   34     6  142   0.193182  0.850000   \n",
       " 3             ribosome  279  142  127    15  152   0.455197  0.894366   \n",
       " 4        thyroglobulin  278   94   76    18  202   0.273381  0.808511   \n",
       " 5  virus-like-particle   64   30   28     2   36   0.437500  0.933333   \n",
       " \n",
       "     f-beta4  weight  \n",
       " 0  0.869996       1  \n",
       " 1  0.531250       0  \n",
       " 2  0.708333       2  \n",
       " 3  0.846335       1  \n",
       " 4  0.725028       2  \n",
       " 5  0.875000       1  ,\n",
       " 0.779721918136067)"
      ]
     },
     "execution_count": 3,
     "metadata": {},
     "output_type": "execute_result"
    }
   ],
   "source": [
    "scoring_lb(pd.read_csv('submission (25).csv'))"
   ]
  },
  {
   "cell_type": "code",
   "execution_count": 11,
   "metadata": {},
   "outputs": [
    {
     "name": "stdout",
     "output_type": "stream",
     "text": [
      "['TS_5_4', 'TS_69_2', 'TS_6_4']\n",
      " TS_6_4 virus-like-particlee\n"
     ]
    },
    {
     "data": {
      "text/plain": [
       "(         particle_type    P    T  hit  miss   fp  precision    recall  \\\n",
       " 0         apo-ferritin  188  139  124    15   64   0.659574  0.892086   \n",
       " 1         beta-amylase   29   31   10    21   19   0.344828  0.322581   \n",
       " 2   beta-galactosidase  120   40   30    10   90   0.250000  0.750000   \n",
       " 3             ribosome  230  142  126    16  104   0.547826  0.887324   \n",
       " 4        thyroglobulin  210   94   76    18  134   0.361905  0.808511   \n",
       " 5  virus-like-particle   45   30   29     1   16   0.644444  0.966667   \n",
       " \n",
       "     f-beta4  weight  \n",
       " 0  0.873964       1  \n",
       " 1  0.323810       0  \n",
       " 2  0.671053       2  \n",
       " 3  0.856115       1  \n",
       " 4  0.753792       2  \n",
       " 5  0.939048       1  ,\n",
       " 0.7884023004723784)"
      ]
     },
     "execution_count": 11,
     "metadata": {},
     "output_type": "execute_result"
    }
   ],
   "source": [
    "scoring_lb(pd.read_csv('submission (30).csv'))"
   ]
  },
  {
   "cell_type": "code",
   "execution_count": 15,
   "metadata": {},
   "outputs": [
    {
     "data": {
      "text/plain": [
       "0.6710526315789473"
      ]
     },
     "execution_count": 15,
     "metadata": {},
     "output_type": "execute_result"
    }
   ],
   "source": [
    "P =120\n",
    "T = 40\n",
    "hit = 30\n",
    "\n",
    "persepsion = hit/P\n",
    "recall = hit/T\n",
    "fBeta4 = (1+4**2)*persepsion*recall/(4**2*persepsion+recall)\n",
    "fBeta4"
   ]
  },
  {
   "cell_type": "code",
   "execution_count": 21,
   "metadata": {},
   "outputs": [
    {
     "data": {
      "text/plain": [
       "0.4473684210526315"
      ]
     },
     "execution_count": 21,
     "metadata": {},
     "output_type": "execute_result"
    }
   ],
   "source": [
    "P =120\n",
    "T = 40\n",
    "hit = 30-10\n",
    "\n",
    "persepsion = hit/P\n",
    "recall = hit/T\n",
    "fBeta4 = (1+4**2)*persepsion*recall/(4**2*persepsion+recall)\n",
    "fBeta4"
   ]
  }
 ],
 "metadata": {
  "kernelspec": {
   "display_name": "ultralytics-env",
   "language": "python",
   "name": "python3"
  },
  "language_info": {
   "codemirror_mode": {
    "name": "ipython",
    "version": 3
   },
   "file_extension": ".py",
   "mimetype": "text/x-python",
   "name": "python",
   "nbconvert_exporter": "python",
   "pygments_lexer": "ipython3",
   "version": "3.11.11"
  }
 },
 "nbformat": 4,
 "nbformat_minor": 2
}
