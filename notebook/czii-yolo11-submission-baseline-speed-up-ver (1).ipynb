{
 "cells": [
  {
   "cell_type": "markdown",
   "id": "87590ffd",
   "metadata": {
    "papermill": {
     "duration": 0.009964,
     "end_time": "2024-12-21T03:31:47.936723",
     "exception": false,
     "start_time": "2024-12-21T03:31:47.926759",
     "status": "completed"
    },
    "tags": []
   },
   "source": [
    "# CZII YOLO11 Submission Baseline (speed up ver)\n",
    "\n",
    "@ITK8191's [great notebook](https://www.kaggle.com/code/itsuki9180/czii-yolo11-submission-baseline) process is now multi-processed to reduce execution time.\n",
    "Probably cut processing time in half.\n",
    "\n",
    "I just added and corrected the commented areas.\n",
    "\n",
    "If you think this notebook is good, please upvote [original note](https://www.kaggle.com/code/itsuki9180/czii-yolo11-submission-baseline) (and this note)!"
   ]
  },
  {
   "cell_type": "markdown",
   "id": "e8f0f6f2",
   "metadata": {
    "papermill": {
     "duration": 0.009459,
     "end_time": "2024-12-21T03:31:47.954412",
     "exception": false,
     "start_time": "2024-12-21T03:31:47.944953",
     "status": "completed"
    },
    "tags": []
   },
   "source": [
    "# CZII YOLO11 Submission Baseline\n",
    "In [the previous training notebook](https://www.kaggle.com/code/itsuki9180/czii-yolo11-training-baseline) we built a model to find the xy coordinates of particles by using 2D object detection on sliced ​​images.\n",
    "\n",
    "Now, what we can find is **the center of the circle**. But we need to find the coordinates of **the center of the sphere shaped particle**. How can we do this?\n",
    "\n",
    "Here I propose to stack slices and consider points in the neighborhood of a given point to be points of the same sphere.\n",
    "\n",
    "It requires some basic graph theory knowledge, but you'll get the hang of it quickly."
   ]
  },
  {
   "cell_type": "markdown",
   "id": "3d72c171",
   "metadata": {
    "papermill": {
     "duration": 0.006624,
     "end_time": "2024-12-21T03:31:47.967183",
     "exception": false,
     "start_time": "2024-12-21T03:31:47.960559",
     "status": "completed"
    },
    "tags": []
   },
   "source": [
    "# Install and Import modules"
   ]
  },
  {
   "cell_type": "code",
   "execution_count": 16,
   "id": "8d5f0199",
   "metadata": {
    "execution": {
     "iopub.execute_input": "2024-12-21T03:33:42.812405Z",
     "iopub.status.busy": "2024-12-21T03:33:42.811671Z",
     "iopub.status.idle": "2024-12-21T03:33:52.327384Z",
     "shell.execute_reply": "2024-12-21T03:33:52.326704Z"
    },
    "papermill": {
     "duration": 9.526049,
     "end_time": "2024-12-21T03:33:52.329255",
     "exception": false,
     "start_time": "2024-12-21T03:33:42.803206",
     "status": "completed"
    },
    "tags": []
   },
   "outputs": [],
   "source": [
    "import zarr\n",
    "from ultralytics import YOLO\n",
    "from tqdm import tqdm\n",
    "import glob, os\n",
    "import torch"
   ]
  },
  {
   "cell_type": "code",
   "execution_count": 17,
   "id": "00f0959c",
   "metadata": {
    "execution": {
     "iopub.execute_input": "2024-12-21T03:33:52.344737Z",
     "iopub.status.busy": "2024-12-21T03:33:52.343946Z",
     "iopub.status.idle": "2024-12-21T03:33:53.504345Z",
     "shell.execute_reply": "2024-12-21T03:33:53.503656Z"
    },
    "papermill": {
     "duration": 1.169892,
     "end_time": "2024-12-21T03:33:53.506229",
     "exception": false,
     "start_time": "2024-12-21T03:33:52.336337",
     "status": "completed"
    },
    "tags": []
   },
   "outputs": [],
   "source": [
    "import numpy as np\n",
    "import pandas as pd\n",
    "import matplotlib.pyplot as plt\n",
    "import cv2"
   ]
  },
  {
   "cell_type": "markdown",
   "id": "ac2ccbe5",
   "metadata": {
    "papermill": {
     "duration": 0.006679,
     "end_time": "2024-12-21T03:33:53.520015",
     "exception": false,
     "start_time": "2024-12-21T03:33:53.513336",
     "status": "completed"
    },
    "tags": []
   },
   "source": [
    "We use a recursive function in this notebook, and we change the settings to explore the graph deep enough."
   ]
  },
  {
   "cell_type": "code",
   "execution_count": 18,
   "id": "11fca522",
   "metadata": {
    "execution": {
     "iopub.execute_input": "2024-12-21T03:33:53.535015Z",
     "iopub.status.busy": "2024-12-21T03:33:53.534227Z",
     "iopub.status.idle": "2024-12-21T03:33:53.537894Z",
     "shell.execute_reply": "2024-12-21T03:33:53.537172Z"
    },
    "papermill": {
     "duration": 0.012734,
     "end_time": "2024-12-21T03:33:53.539397",
     "exception": false,
     "start_time": "2024-12-21T03:33:53.526663",
     "status": "completed"
    },
    "tags": []
   },
   "outputs": [],
   "source": [
    "import sys\n",
    "sys.setrecursionlimit(10000)"
   ]
  },
  {
   "cell_type": "code",
   "execution_count": 19,
   "id": "f84eef16",
   "metadata": {
    "execution": {
     "iopub.execute_input": "2024-12-21T03:33:53.554346Z",
     "iopub.status.busy": "2024-12-21T03:33:53.553755Z",
     "iopub.status.idle": "2024-12-21T03:33:53.557244Z",
     "shell.execute_reply": "2024-12-21T03:33:53.556533Z"
    },
    "papermill": {
     "duration": 0.012286,
     "end_time": "2024-12-21T03:33:53.558706",
     "exception": false,
     "start_time": "2024-12-21T03:33:53.546420",
     "status": "completed"
    },
    "tags": []
   },
   "outputs": [],
   "source": [
    "import warnings\n",
    "warnings.simplefilter('ignore')\n",
    "np.warnings = warnings"
   ]
  },
  {
   "cell_type": "markdown",
   "id": "c12d34c5",
   "metadata": {
    "papermill": {
     "duration": 0.006448,
     "end_time": "2024-12-21T03:33:53.571831",
     "exception": false,
     "start_time": "2024-12-21T03:33:53.565383",
     "status": "completed"
    },
    "tags": []
   },
   "source": [
    "# Prepare trained YOLO model"
   ]
  },
  {
   "cell_type": "code",
   "execution_count": 20,
   "id": "98cbb962",
   "metadata": {
    "execution": {
     "iopub.execute_input": "2024-12-21T03:33:53.585858Z",
     "iopub.status.busy": "2024-12-21T03:33:53.585635Z",
     "iopub.status.idle": "2024-12-21T03:33:54.625239Z",
     "shell.execute_reply": "2024-12-21T03:33:54.624265Z"
    },
    "papermill": {
     "duration": 1.048933,
     "end_time": "2024-12-21T03:33:54.627317",
     "exception": false,
     "start_time": "2024-12-21T03:33:53.578384",
     "status": "completed"
    },
    "tags": []
   },
   "outputs": [],
   "source": [
    "model = YOLO(\"../input/model/best.pt\")"
   ]
  },
  {
   "cell_type": "code",
   "execution_count": 21,
   "id": "21d842f5",
   "metadata": {
    "execution": {
     "iopub.execute_input": "2024-12-21T03:33:54.642470Z",
     "iopub.status.busy": "2024-12-21T03:33:54.642201Z",
     "iopub.status.idle": "2024-12-21T03:33:54.656106Z",
     "shell.execute_reply": "2024-12-21T03:33:54.655333Z"
    },
    "papermill": {
     "duration": 0.0233,
     "end_time": "2024-12-21T03:33:54.657663",
     "exception": false,
     "start_time": "2024-12-21T03:33:54.634363",
     "status": "completed"
    },
    "tags": []
   },
   "outputs": [
    {
     "data": {
      "text/plain": [
       "['TS_5_4']"
      ]
     },
     "execution_count": 21,
     "metadata": {},
     "output_type": "execute_result"
    }
   ],
   "source": [
    "runs = sorted(glob.glob('../input/czii-cryo-et-object-identification/test/static/ExperimentRuns/*'))\n",
    "runs = [os.path.basename(x) for x in runs]\n",
    "#change by @minfuka\n",
    "# runs[:5]\n",
    "sp = len(runs)//2\n",
    "runs1 = runs[:sp]\n",
    "runs1[:5]"
   ]
  },
  {
   "cell_type": "code",
   "execution_count": 22,
   "id": "36f10f12",
   "metadata": {
    "execution": {
     "iopub.execute_input": "2024-12-21T03:33:54.672296Z",
     "iopub.status.busy": "2024-12-21T03:33:54.672061Z",
     "iopub.status.idle": "2024-12-21T03:33:54.677012Z",
     "shell.execute_reply": "2024-12-21T03:33:54.676234Z"
    },
    "papermill": {
     "duration": 0.014037,
     "end_time": "2024-12-21T03:33:54.678544",
     "exception": false,
     "start_time": "2024-12-21T03:33:54.664507",
     "status": "completed"
    },
    "tags": []
   },
   "outputs": [
    {
     "data": {
      "text/plain": [
       "['TS_69_2', 'TS_6_4']"
      ]
     },
     "execution_count": 22,
     "metadata": {},
     "output_type": "execute_result"
    }
   ],
   "source": [
    "#add by @minfuka\n",
    "runs2 = runs[sp:]\n",
    "runs2[:5]"
   ]
  },
  {
   "cell_type": "code",
   "execution_count": 23,
   "id": "e74c5367",
   "metadata": {
    "execution": {
     "iopub.execute_input": "2024-12-21T03:33:54.693608Z",
     "iopub.status.busy": "2024-12-21T03:33:54.692923Z",
     "iopub.status.idle": "2024-12-21T03:33:54.721329Z",
     "shell.execute_reply": "2024-12-21T03:33:54.720538Z"
    },
    "papermill": {
     "duration": 0.037343,
     "end_time": "2024-12-21T03:33:54.722833",
     "exception": false,
     "start_time": "2024-12-21T03:33:54.685490",
     "status": "completed"
    },
    "tags": []
   },
   "outputs": [],
   "source": [
    "#add by @minfuka\n",
    "assert torch.cuda.device_count() == 10"
   ]
  },
  {
   "cell_type": "code",
   "execution_count": 24,
   "id": "ed171683",
   "metadata": {
    "execution": {
     "iopub.execute_input": "2024-12-21T03:33:54.737865Z",
     "iopub.status.busy": "2024-12-21T03:33:54.737048Z",
     "iopub.status.idle": "2024-12-21T03:33:54.740570Z",
     "shell.execute_reply": "2024-12-21T03:33:54.739995Z"
    },
    "papermill": {
     "duration": 0.012601,
     "end_time": "2024-12-21T03:33:54.742177",
     "exception": false,
     "start_time": "2024-12-21T03:33:54.729576",
     "status": "completed"
    },
    "tags": []
   },
   "outputs": [],
   "source": [
    "#Information about labels"
   ]
  },
  {
   "cell_type": "code",
   "execution_count": 25,
   "id": "f013b35c",
   "metadata": {
    "execution": {
     "iopub.execute_input": "2024-12-21T03:33:54.756825Z",
     "iopub.status.busy": "2024-12-21T03:33:54.756563Z",
     "iopub.status.idle": "2024-12-21T03:33:54.760228Z",
     "shell.execute_reply": "2024-12-21T03:33:54.759370Z"
    },
    "papermill": {
     "duration": 0.01279,
     "end_time": "2024-12-21T03:33:54.761851",
     "exception": false,
     "start_time": "2024-12-21T03:33:54.749061",
     "status": "completed"
    },
    "tags": []
   },
   "outputs": [],
   "source": [
    "particle_names = ['apo-ferritin', 'beta-amylase', 'beta-galactosidase', 'ribosome', 'thyroglobulin', 'virus-like-particle']"
   ]
  },
  {
   "cell_type": "code",
   "execution_count": 26,
   "id": "2dd984d9",
   "metadata": {
    "execution": {
     "iopub.execute_input": "2024-12-21T03:33:54.776305Z",
     "iopub.status.busy": "2024-12-21T03:33:54.776062Z",
     "iopub.status.idle": "2024-12-21T03:33:54.779810Z",
     "shell.execute_reply": "2024-12-21T03:33:54.779122Z"
    },
    "papermill": {
     "duration": 0.012878,
     "end_time": "2024-12-21T03:33:54.781421",
     "exception": false,
     "start_time": "2024-12-21T03:33:54.768543",
     "status": "completed"
    },
    "tags": []
   },
   "outputs": [],
   "source": [
    "p2i_dict = {\n",
    "        'apo-ferritin': 0,\n",
    "        'beta-amylase': 1,\n",
    "        'beta-galactosidase': 2,\n",
    "        'ribosome': 3,\n",
    "        'thyroglobulin': 4,\n",
    "        'virus-like-particle': 5\n",
    "    }\n",
    "\n",
    "i2p = {v:k for k, v in p2i_dict.items()}"
   ]
  },
  {
   "cell_type": "code",
   "execution_count": 27,
   "id": "8cdcf96a",
   "metadata": {
    "execution": {
     "iopub.execute_input": "2024-12-21T03:33:54.795998Z",
     "iopub.status.busy": "2024-12-21T03:33:54.795730Z",
     "iopub.status.idle": "2024-12-21T03:33:54.799581Z",
     "shell.execute_reply": "2024-12-21T03:33:54.798784Z"
    },
    "papermill": {
     "duration": 0.012821,
     "end_time": "2024-12-21T03:33:54.801096",
     "exception": false,
     "start_time": "2024-12-21T03:33:54.788275",
     "status": "completed"
    },
    "tags": []
   },
   "outputs": [],
   "source": [
    "particle_radius = {\n",
    "        'apo-ferritin': 60,\n",
    "        'beta-amylase': 65,\n",
    "        'beta-galactosidase': 90,\n",
    "        'ribosome': 150,\n",
    "        'thyroglobulin': 130,\n",
    "        'virus-like-particle': 135,\n",
    "    }"
   ]
  },
  {
   "cell_type": "markdown",
   "id": "a022427e",
   "metadata": {
    "papermill": {
     "duration": 0.006559,
     "end_time": "2024-12-21T03:33:54.814353",
     "exception": false,
     "start_time": "2024-12-21T03:33:54.807794",
     "status": "completed"
    },
    "tags": []
   },
   "source": [
    "# define Main process class\n",
    "There are many variables and functions going back and forth. We can easily manage variables by defining classes."
   ]
  },
  {
   "cell_type": "code",
   "execution_count": 28,
   "id": "e5c0275c",
   "metadata": {
    "execution": {
     "iopub.execute_input": "2024-12-21T03:33:54.829019Z",
     "iopub.status.busy": "2024-12-21T03:33:54.828755Z",
     "iopub.status.idle": "2024-12-21T03:33:54.847584Z",
     "shell.execute_reply": "2024-12-21T03:33:54.846796Z"
    },
    "papermill": {
     "duration": 0.027874,
     "end_time": "2024-12-21T03:33:54.849069",
     "exception": false,
     "start_time": "2024-12-21T03:33:54.821195",
     "status": "completed"
    },
    "tags": []
   },
   "outputs": [],
   "source": [
    "class PredAggForYOLO:\n",
    "    def __init__(self, first_conf=0.2, final_conf=0.3, conf_coef=0.75):\n",
    "        self.first_conf = first_conf # threshold of confidence yolo\n",
    "        self.final_conf = final_conf # final threshold score (not be used in version 14)\n",
    "        self.conf_coef = conf_coef # if found many points, give bonus\n",
    "        self.particle_confs = [0.5, 0.0, 0.2, 0.5, 0.2, 0.5] # be strict to easy labels \n",
    "\n",
    "    def convert_to_8bit(self, x):\n",
    "        lower, upper = np.percentile(x, (0.5, 99.5))\n",
    "        x = np.clip(x, lower, upper)\n",
    "        x = (x - x.min()) / (x.max() - x.min() + 1e-12) * 255\n",
    "        return x.round().astype(\"uint8\")\n",
    "\n",
    "    # depth first search.\n",
    "    # aggregate the coordinates and confidence scores of connected graphs.\n",
    "    def dfs(self, v):\n",
    "        self.passed[v] = True\n",
    "        self.conf_sum += self.pdf.iloc[v].confidence\n",
    "        self.cx += self.pdf.iloc[v].x\n",
    "        self.cy += self.pdf.iloc[v].y\n",
    "        self.cz += self.pdf.iloc[v].z\n",
    "        self.nv += 1\n",
    "        for next_v in self.adjacency_list[v]:\n",
    "            if (self.passed[next_v]): continue\n",
    "            self.dfs(next_v)\n",
    "\n",
    "    # main routine.\n",
    "    # change by @minfuka\n",
    "    # def make_predict_yolo(self, r, model):\n",
    "    def make_predict_yolo(self, r, model, device_no):\n",
    "        vol = zarr.open(f'../input/czii-cryo-et-object-identification/test/static/ExperimentRuns/{r}/VoxelSpacing10.000/denoised.zarr', mode='r')\n",
    "        vol = vol[0]\n",
    "        vol2 = self.convert_to_8bit(vol)\n",
    "        n_imgs = vol2.shape[0]\n",
    "    \n",
    "        df = pd.DataFrame()\n",
    "    \n",
    "        pts = []\n",
    "        confs = []\n",
    "        xs = []\n",
    "        ys = []\n",
    "        zs = []\n",
    "        \n",
    "        for i in range(n_imgs):\n",
    "            # Unfortunately the image size needs to be a multiple of 32.\n",
    "            tmp_img = np.zeros((630, 630))\n",
    "            tmp_img[:] = vol2[i]\n",
    "    \n",
    "            inp_arr = np.stack([tmp_img]*3,axis=-1)\n",
    "            inp_arr = cv2.resize(inp_arr, (640,640))\n",
    "\n",
    "            # change by @minfuka\n",
    "            # res = model.predict(inp_arr, save=False, imgsz=640, conf=self.first_conf, device=\"0\", batch=1, verbose=False)\n",
    "            res = model.predict(inp_arr, save=False, imgsz=640, conf=self.first_conf, device=device_no, batch=1, verbose=False)\n",
    "            for j, result in enumerate(res):\n",
    "                boxes = result.boxes # Boxes object for bounding box outputs    \n",
    "                for k in range(len(boxes.cls)):\n",
    "                    ptype = i2p[boxes.cls.cpu().numpy()[k]] # particle type\n",
    "                    conf = boxes.conf.cpu().numpy()[k] # confidence score\n",
    "                    # YOLO can infer (start_x, end_x, start_y, end_y)\n",
    "                    xc = (boxes.xyxy[k,0] + boxes.xyxy[k,2]) / 2.0 * 10 * (63/64)\n",
    "                    yc = (boxes.xyxy[k,1] + boxes.xyxy[k,3]) / 2.0 * 10 * (63/64)\n",
    "                    zc = i * 10 + 5\n",
    "    \n",
    "                    pts.append(ptype)\n",
    "                    confs.append(conf)\n",
    "                    xs.append(xc.cpu().numpy())\n",
    "                    ys.append(yc.cpu().numpy())\n",
    "                    zs.append(zc)           \n",
    "                \n",
    "        df['particle_type'] = pts\n",
    "        df['confidence'] = confs\n",
    "        df['x'] = xs\n",
    "        df['y'] = ys\n",
    "        df['z'] = zs\n",
    "\n",
    "        # df includes overall canditate of CIRCLE. \n",
    "        df = df.sort_values(['particle_type', 'z'], ascending=[True, True])\n",
    "    \n",
    "        agg_df = []\n",
    "\n",
    "        # infer center of sphere each particle types\n",
    "        for pidx, p in enumerate(particle_names):\n",
    "            if p == 'beta-amylase':\n",
    "                continue\n",
    "            pdf = df[df['particle_type']==p].reset_index(drop=True)\n",
    "            self.pdf = pdf\n",
    "            p_rad = particle_radius[p]\n",
    "\n",
    "            # The distance between the x and y coordinates of adjacent slices is expected to be very small.\n",
    "            xy_tol = p_rad / 16.0\n",
    "            xy_tol_p2 = xy_tol ** 2\n",
    "\n",
    "            # define the graph\n",
    "            self.adjacency_list = [[] for _ in range(len(pdf))]\n",
    "            # which already passed in dfs\n",
    "            self.passed = [False for _ in range(len(pdf))]\n",
    "\n",
    "            # Connect two points when they are close enough\n",
    "            for i in range(len(pdf)):\n",
    "                x1 = pdf['x'].iloc[i]\n",
    "                y1 = pdf['y'].iloc[i]\n",
    "                z1 = pdf['z'].iloc[i]\n",
    "                for j in range(i+1, len(pdf), 1):\n",
    "                    x2 = pdf['x'].iloc[j]\n",
    "                    y2 = pdf['y'].iloc[j]\n",
    "                    z2 = pdf['z'].iloc[j]\n",
    "                    # Can be pruned. thanks to min fuka (@minfuka)\n",
    "                    if abs(z1-z2)>20:\n",
    "                        break\n",
    "    \n",
    "                    dist_p2 = (x1-x2)**2 + (y1-y2)**2\n",
    "                    if dist_p2<xy_tol_p2 and dist_p2+(z1-z2)**2 < p_rad**2 and abs(z1-z2)<=20:\n",
    "                        self.adjacency_list[i].append(j)\n",
    "                        self.adjacency_list[j].append(i)\n",
    "\n",
    "            rdf = pd.DataFrame()\n",
    "            cxs = []\n",
    "            cys = []\n",
    "            czs = []\n",
    "\n",
    "            # Perform DFS on all points and find the center of the sphere from the average of the coordinates\n",
    "            for i in range(len(pdf)):\n",
    "                self.conf_sum = 0\n",
    "                self.nv = 0\n",
    "                self.cx = 0\n",
    "                self.cy = 0\n",
    "                self.cz = 0\n",
    "                if not self.passed[i]:\n",
    "                    self.dfs(i)\n",
    "\n",
    "                # Different confidence for different particle types\n",
    "                if self.nv>=2 and self.conf_sum / (self.nv**self.conf_coef) > self.particle_confs[pidx]:\n",
    "                    cxs.append(self.cx / self.nv)\n",
    "                    cys.append(self.cy / self.nv)\n",
    "                    czs.append(self.cz / self.nv)\n",
    "\n",
    "            rdf['experiment'] = [r] * len(cxs)\n",
    "            rdf['particle_type'] = [p] * len(cys)\n",
    "            rdf['x'] = cxs\n",
    "            rdf['y'] = cys\n",
    "            rdf['z'] = czs\n",
    "\n",
    "            agg_df.append(rdf)\n",
    "\n",
    "       \n",
    "        return pd.concat(agg_df, axis=0)"
   ]
  },
  {
   "cell_type": "code",
   "execution_count": 29,
   "id": "992b2e57",
   "metadata": {
    "execution": {
     "iopub.execute_input": "2024-12-21T03:33:54.864104Z",
     "iopub.status.busy": "2024-12-21T03:33:54.863604Z",
     "iopub.status.idle": "2024-12-21T03:33:54.867113Z",
     "shell.execute_reply": "2024-12-21T03:33:54.866416Z"
    },
    "papermill": {
     "duration": 0.01287,
     "end_time": "2024-12-21T03:33:54.868694",
     "exception": false,
     "start_time": "2024-12-21T03:33:54.855824",
     "status": "completed"
    },
    "tags": []
   },
   "outputs": [],
   "source": [
    "# instance main class\n",
    "agent = PredAggForYOLO(first_conf=0.15, final_conf=0.2, conf_coef=0.5) # final_conf is not used after version 14"
   ]
  },
  {
   "cell_type": "code",
   "execution_count": 30,
   "id": "0ce8d6c4",
   "metadata": {
    "execution": {
     "iopub.execute_input": "2024-12-21T03:33:54.884108Z",
     "iopub.status.busy": "2024-12-21T03:33:54.883845Z",
     "iopub.status.idle": "2024-12-21T03:33:54.887001Z",
     "shell.execute_reply": "2024-12-21T03:33:54.886373Z"
    },
    "papermill": {
     "duration": 0.012352,
     "end_time": "2024-12-21T03:33:54.888590",
     "exception": false,
     "start_time": "2024-12-21T03:33:54.876238",
     "status": "completed"
    },
    "tags": []
   },
   "outputs": [],
   "source": [
    "# subs = []"
   ]
  },
  {
   "cell_type": "code",
   "execution_count": 31,
   "id": "44de849c",
   "metadata": {
    "execution": {
     "iopub.execute_input": "2024-12-21T03:33:54.903785Z",
     "iopub.status.busy": "2024-12-21T03:33:54.903540Z",
     "iopub.status.idle": "2024-12-21T03:33:54.910998Z",
     "shell.execute_reply": "2024-12-21T03:33:54.910429Z"
    },
    "papermill": {
     "duration": 0.01668,
     "end_time": "2024-12-21T03:33:54.912524",
     "exception": false,
     "start_time": "2024-12-21T03:33:54.895844",
     "status": "completed"
    },
    "tags": []
   },
   "outputs": [],
   "source": [
    "import time\n",
    "#add by @minfuka\n",
    "from concurrent.futures import ProcessPoolExecutor #add by @minfuka"
   ]
  },
  {
   "cell_type": "markdown",
   "id": "5f29b608",
   "metadata": {
    "papermill": {
     "duration": 0.006895,
     "end_time": "2024-12-21T03:33:54.926185",
     "exception": false,
     "start_time": "2024-12-21T03:33:54.919290",
     "status": "completed"
    },
    "tags": []
   },
   "source": [
    "# main loop of inference"
   ]
  },
  {
   "cell_type": "code",
   "execution_count": 32,
   "id": "542f47c4",
   "metadata": {
    "execution": {
     "iopub.execute_input": "2024-12-21T03:33:54.940945Z",
     "iopub.status.busy": "2024-12-21T03:33:54.940720Z",
     "iopub.status.idle": "2024-12-21T03:33:54.944598Z",
     "shell.execute_reply": "2024-12-21T03:33:54.943889Z"
    },
    "papermill": {
     "duration": 0.013118,
     "end_time": "2024-12-21T03:33:54.946131",
     "exception": false,
     "start_time": "2024-12-21T03:33:54.933013",
     "status": "completed"
    },
    "tags": []
   },
   "outputs": [],
   "source": [
    "#add by @minfuka\n",
    "def inference(runs, model, device_no):\n",
    "    subs = []\n",
    "    for r in tqdm(runs, total=len(runs)):\n",
    "        df = agent.make_predict_yolo(r, model, device_no)\n",
    "        subs.append(df)\n",
    "    \n",
    "    return subs"
   ]
  },
  {
   "cell_type": "code",
   "execution_count": 33,
   "id": "4439c684",
   "metadata": {
    "execution": {
     "iopub.execute_input": "2024-12-21T03:33:54.960540Z",
     "iopub.status.busy": "2024-12-21T03:33:54.960283Z",
     "iopub.status.idle": "2024-12-21T03:34:43.334959Z",
     "shell.execute_reply": "2024-12-21T03:34:43.333846Z"
    },
    "papermill": {
     "duration": 48.383877,
     "end_time": "2024-12-21T03:34:43.336793",
     "exception": false,
     "start_time": "2024-12-21T03:33:54.952916",
     "status": "completed"
    },
    "tags": []
   },
   "outputs": [
    {
     "name": "stderr",
     "output_type": "stream",
     "text": [
      "100%|██████████| 1/1 [00:13<00:00, 13.28s/it]\n",
      "100%|██████████| 2/2 [00:28<00:00, 14.21s/it]\n"
     ]
    },
    {
     "name": "stdout",
     "output_type": "stream",
     "text": [
      "CPU times: user 474 ms, sys: 310 ms, total: 784 ms\n",
      "Wall time: 30.2 s\n"
     ]
    }
   ],
   "source": [
    "%%time\n",
    "tick = time.time()\n",
    "#change by @minfuka\n",
    "# for r in tqdm(runs, total=len(runs)):\n",
    "#     df = agent.make_predict_yolo(r, model)\n",
    "#     subs.append(df)\n",
    "with ProcessPoolExecutor(max_workers=2) as executor:\n",
    "    results = list(executor.map(inference, (runs1, runs2), (model, model), (\"0\", \"1\")))\n",
    "tock = time.time()"
   ]
  },
  {
   "cell_type": "code",
   "execution_count": 34,
   "id": "3906b80c",
   "metadata": {
    "execution": {
     "iopub.execute_input": "2024-12-21T03:34:43.353334Z",
     "iopub.status.busy": "2024-12-21T03:34:43.353033Z",
     "iopub.status.idle": "2024-12-21T03:34:43.357948Z",
     "shell.execute_reply": "2024-12-21T03:34:43.357146Z"
    },
    "papermill": {
     "duration": 0.014905,
     "end_time": "2024-12-21T03:34:43.359483",
     "exception": false,
     "start_time": "2024-12-21T03:34:43.344578",
     "status": "completed"
    },
    "tags": []
   },
   "outputs": [
    {
     "name": "stdout",
     "output_type": "stream",
     "text": [
      "estimated predict time is 5026.7731 seconds\n"
     ]
    }
   ],
   "source": [
    "print(f'estimated predict time is {(tock-tick)/3*500:.4f} seconds')"
   ]
  },
  {
   "cell_type": "code",
   "execution_count": 35,
   "id": "68e75365",
   "metadata": {
    "execution": {
     "iopub.execute_input": "2024-12-21T03:34:43.375054Z",
     "iopub.status.busy": "2024-12-21T03:34:43.374774Z",
     "iopub.status.idle": "2024-12-21T03:34:43.383399Z",
     "shell.execute_reply": "2024-12-21T03:34:43.382770Z"
    },
    "papermill": {
     "duration": 0.018173,
     "end_time": "2024-12-21T03:34:43.384869",
     "exception": false,
     "start_time": "2024-12-21T03:34:43.366696",
     "status": "completed"
    },
    "tags": []
   },
   "outputs": [],
   "source": [
    "#submission = pd.concat(subs).reset_index(drop=True)\n",
    "#change by @minfuka\n",
    "submission0 = pd.concat(results[0])\n",
    "submission1 = pd.concat(results[1])\n",
    "submission = pd.concat([submission0, submission1]).reset_index(drop=True)\n",
    "submission.insert(0, 'id', range(len(submission)))"
   ]
  },
  {
   "cell_type": "code",
   "execution_count": 36,
   "id": "e6aea9d0",
   "metadata": {
    "execution": {
     "iopub.execute_input": "2024-12-21T03:34:43.400435Z",
     "iopub.status.busy": "2024-12-21T03:34:43.400200Z",
     "iopub.status.idle": "2024-12-21T03:34:43.427770Z",
     "shell.execute_reply": "2024-12-21T03:34:43.427043Z"
    },
    "papermill": {
     "duration": 0.037158,
     "end_time": "2024-12-21T03:34:43.429334",
     "exception": false,
     "start_time": "2024-12-21T03:34:43.392176",
     "status": "completed"
    },
    "tags": []
   },
   "outputs": [
    {
     "data": {
      "text/html": [
       "<div>\n",
       "<style scoped>\n",
       "    .dataframe tbody tr th:only-of-type {\n",
       "        vertical-align: middle;\n",
       "    }\n",
       "\n",
       "    .dataframe tbody tr th {\n",
       "        vertical-align: top;\n",
       "    }\n",
       "\n",
       "    .dataframe thead th {\n",
       "        text-align: right;\n",
       "    }\n",
       "</style>\n",
       "<table border=\"1\" class=\"dataframe\">\n",
       "  <thead>\n",
       "    <tr style=\"text-align: right;\">\n",
       "      <th></th>\n",
       "      <th>id</th>\n",
       "      <th>experiment</th>\n",
       "      <th>particle_type</th>\n",
       "      <th>x</th>\n",
       "      <th>y</th>\n",
       "      <th>z</th>\n",
       "    </tr>\n",
       "  </thead>\n",
       "  <tbody>\n",
       "    <tr>\n",
       "      <th>0</th>\n",
       "      <td>0</td>\n",
       "      <td>TS_5_4</td>\n",
       "      <td>apo-ferritin</td>\n",
       "      <td>5874.377930</td>\n",
       "      <td>5131.261230</td>\n",
       "      <td>75.0</td>\n",
       "    </tr>\n",
       "    <tr>\n",
       "      <th>1</th>\n",
       "      <td>1</td>\n",
       "      <td>TS_5_4</td>\n",
       "      <td>apo-ferritin</td>\n",
       "      <td>5741.878418</td>\n",
       "      <td>5106.745117</td>\n",
       "      <td>80.0</td>\n",
       "    </tr>\n",
       "    <tr>\n",
       "      <th>2</th>\n",
       "      <td>2</td>\n",
       "      <td>TS_5_4</td>\n",
       "      <td>apo-ferritin</td>\n",
       "      <td>5713.371094</td>\n",
       "      <td>4996.683594</td>\n",
       "      <td>120.0</td>\n",
       "    </tr>\n",
       "    <tr>\n",
       "      <th>3</th>\n",
       "      <td>3</td>\n",
       "      <td>TS_5_4</td>\n",
       "      <td>apo-ferritin</td>\n",
       "      <td>5743.099609</td>\n",
       "      <td>5110.823242</td>\n",
       "      <td>115.0</td>\n",
       "    </tr>\n",
       "    <tr>\n",
       "      <th>4</th>\n",
       "      <td>4</td>\n",
       "      <td>TS_5_4</td>\n",
       "      <td>apo-ferritin</td>\n",
       "      <td>5297.327637</td>\n",
       "      <td>4169.222656</td>\n",
       "      <td>145.0</td>\n",
       "    </tr>\n",
       "  </tbody>\n",
       "</table>\n",
       "</div>"
      ],
      "text/plain": [
       "   id experiment particle_type            x            y      z\n",
       "0   0     TS_5_4  apo-ferritin  5874.377930  5131.261230   75.0\n",
       "1   1     TS_5_4  apo-ferritin  5741.878418  5106.745117   80.0\n",
       "2   2     TS_5_4  apo-ferritin  5713.371094  4996.683594  120.0\n",
       "3   3     TS_5_4  apo-ferritin  5743.099609  5110.823242  115.0\n",
       "4   4     TS_5_4  apo-ferritin  5297.327637  4169.222656  145.0"
      ]
     },
     "execution_count": 36,
     "metadata": {},
     "output_type": "execute_result"
    }
   ],
   "source": [
    "submission.to_csv(\"submission.csv\", index=False)\n",
    "submission.head()"
   ]
  },
  {
   "cell_type": "markdown",
   "id": "65377e9a",
   "metadata": {
    "papermill": {
     "duration": 0.007331,
     "end_time": "2024-12-21T03:34:43.444550",
     "exception": false,
     "start_time": "2024-12-21T03:34:43.437219",
     "status": "completed"
    },
    "tags": []
   },
   "source": [
    "# Done!\n",
    "We have seen how to use YOLO for 2D object detection and DFS to find the center of a sphere in space.\n",
    "\n",
    "It takes about **10 hours** from submission to scoring. This may be an area that needs improvement.\n",
    "\n",
    "Here are some ways to improve it further:\n",
    "\n",
    "- Annotation and pre-processing techniques\n",
    "- Improving training of YOLO models\n",
    "- Good post-processing practices\n",
    "\n",
    "### I hope you will utilize this notebook to create an interesting solution that will amaze me and everyone else! Good luck!"
   ]
  }
 ],
 "metadata": {
  "kaggle": {
   "accelerator": "nvidiaTeslaT4",
   "dataSources": [
    {
     "databundleVersionId": 10033515,
     "sourceId": 84969,
     "sourceType": "competition"
    },
    {
     "datasetId": 6040935,
     "sourceId": 9867543,
     "sourceType": "datasetVersion"
    },
    {
     "datasetId": 6240616,
     "sourceId": 10127593,
     "sourceType": "datasetVersion"
    },
    {
     "sourceId": 211097053,
     "sourceType": "kernelVersion"
    }
   ],
   "dockerImageVersionId": 30805,
   "isGpuEnabled": true,
   "isInternetEnabled": false,
   "language": "python",
   "sourceType": "notebook"
  },
  "kernelspec": {
   "display_name": "ultralytics-env",
   "language": "python",
   "name": "python3"
  },
  "language_info": {
   "codemirror_mode": {
    "name": "ipython",
    "version": 3
   },
   "file_extension": ".py",
   "mimetype": "text/x-python",
   "name": "python",
   "nbconvert_exporter": "python",
   "pygments_lexer": "ipython3",
   "version": "3.11.11"
  },
  "papermill": {
   "default_parameters": {},
   "duration": 181.251407,
   "end_time": "2024-12-21T03:34:45.673425",
   "environment_variables": {},
   "exception": null,
   "input_path": "__notebook__.ipynb",
   "output_path": "__notebook__.ipynb",
   "parameters": {},
   "start_time": "2024-12-21T03:31:44.422018",
   "version": "2.6.0"
  }
 },
 "nbformat": 4,
 "nbformat_minor": 5
}
