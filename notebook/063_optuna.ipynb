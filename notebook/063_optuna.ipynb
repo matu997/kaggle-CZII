{
 "cells": [
  {
   "cell_type": "code",
   "execution_count": 1,
   "metadata": {},
   "outputs": [],
   "source": [
    "from helpers import *\n",
    "from dataset import *\n",
    "from model2_for48 import *\n",
    "from czii_helper import *\n",
    "import numpy as np\n",
    "import matplotlib.pyplot as plt\n",
    "import torch\n",
    "import torchvision\n",
    "import random\n",
    "import torchvision.transforms as T\n",
    "import cv2\n",
    "import math\n",
    "import cc3d\n",
    "import optuna\n",
    "from torch.utils.data import Dataset, DataLoader\n",
    "from monai.transforms import Compose, NormalizeIntensityd, ToTensorD\n",
    "from scipy.optimize import linear_sum_assignment\n",
    "from sklearn.metrics import precision_score, recall_score, f1_score\n",
    "from monai.transforms import RandFlipd,RandRotated,RandZoomd,RandAffined,ResizeD,SpatialPadd,RandRotate90d,EnsureChannelFirstd,Orientationd,RandAdjustContrastd,RandGaussianNoised"
   ]
  },
  {
   "cell_type": "code",
   "execution_count": 2,
   "metadata": {},
   "outputs": [],
   "source": [
    "#DEBAG = False\n",
    "DEBAG = True"
   ]
  },
  {
   "cell_type": "code",
   "execution_count": 3,
   "metadata": {},
   "outputs": [],
   "source": [
    "MODE = 'local'\n",
    "valid_dir = '../input/czii-cryo-et-object-identification/train'\n",
    "\n",
    "cfg = dotdict(\n",
    "    arch ='resnet34d',\n",
    "    checkpoint=\\\n",
    "    '/kaggle/input/hengck-czii-cryo-et-weights-01/resnet34d-00010164-extern.pth',\n",
    "   # '/kaggle/input/hengck-czii-cryo-et-weights-01/resnet34d-aug-noise-00003956.pth',\n",
    "       #  '/kaggle/input/hengck-czii-cryo-et-weights-01/resnet34d-00002300.pth',\n",
    "       # '/kaggle/input/hengck-czii-cryo-et-weights-01/00003531.pth',\n",
    "    threshold={ \n",
    "        'apo-ferritin': 0.05,\n",
    "        'beta-amylase': 0.05,\n",
    "        'beta-galactosidase': 0.05,\n",
    "        'ribosome': 0.05,\n",
    "        'thyroglobulin': 0.05,\n",
    "        'virus-like-particle': 0.05,\n",
    "    }, \n",
    ")"
   ]
  },
  {
   "cell_type": "code",
   "execution_count": 4,
   "metadata": {},
   "outputs": [
    {
     "name": "stderr",
     "output_type": "stream",
     "text": [
      "[I 2025-01-30 03:52:46,605] A new study created in memory with name: no-name-f5be6eac-7768-4b9a-a077-d5084072bf1d\n"
     ]
    },
    {
     "name": "stdout",
     "output_type": "stream",
     "text": [
      "['TS_99_9']\n",
      " TS_99_9 virus-like-particle\n",
      "['TS_6_4']\n",
      " TS_6_4 virus-like-particle\n",
      "['TS_6_6']\n",
      " TS_6_6 virus-like-particle\n",
      "['TS_69_2']\n",
      " TS_69_2 virus-like-particle\n",
      "['TS_73_6']\n",
      " TS_73_6 virus-like-particle\n",
      "['TS_86_3']\n",
      " TS_86_3 virus-like-particle\n",
      "['TS_5_4']\n",
      " TS_5_4 virus-like-particle"
     ]
    },
    {
     "name": "stderr",
     "output_type": "stream",
     "text": [
      "[I 2025-01-30 03:53:34,826] Trial 0 finished with value: 0.9548146887341838 and parameters: {'apo-ferritin': 0.5540628338304592, 'beta-galactosidase': 0.8561602404541752, 'ribosome': 0.9009110195270496, 'thyroglobulin': 0.539415289432817, 'virus-like-particle': 0.9536148566067072}. Best is trial 0 with value: 0.9548146887341838.\n"
     ]
    },
    {
     "name": "stdout",
     "output_type": "stream",
     "text": [
      "\n",
      "['TS_99_9']\n",
      " TS_99_9 virus-like-particle\n",
      "['TS_6_4']\n",
      " TS_6_4 virus-like-particle\n",
      "['TS_6_6']\n",
      " TS_6_6 virus-like-particle\n",
      "['TS_69_2']\n",
      " TS_69_2 virus-like-particle\n",
      "['TS_73_6']\n",
      " TS_73_6 virus-like-particle\n",
      "['TS_86_3']\n",
      " TS_86_3 virus-like-particle\n",
      "['TS_5_4']\n",
      " TS_5_4 virus-like-particle"
     ]
    },
    {
     "name": "stderr",
     "output_type": "stream",
     "text": [
      "[I 2025-01-30 03:54:20,624] Trial 1 finished with value: 0.9901602208223712 and parameters: {'apo-ferritin': 0.6437435569400045, 'beta-galactosidase': 0.5409054497908696, 'ribosome': 0.6882053227363547, 'thyroglobulin': 0.755307191882315, 'virus-like-particle': 0.7476425471857988}. Best is trial 1 with value: 0.9901602208223712.\n"
     ]
    },
    {
     "name": "stdout",
     "output_type": "stream",
     "text": [
      "\n",
      "['TS_99_9']\n",
      " TS_99_9 virus-like-particle\n",
      "['TS_6_4']\n",
      " TS_6_4 virus-like-particle\n",
      "['TS_6_6']\n",
      " TS_6_6 virus-like-particle\n",
      "['TS_69_2']\n",
      " TS_69_2 virus-like-particle\n",
      "['TS_73_6']\n",
      " TS_73_6 virus-like-particle\n",
      "['TS_86_3']\n",
      " TS_86_3 virus-like-particle\n",
      "['TS_5_4']\n",
      " TS_5_4 virus-like-particle"
     ]
    },
    {
     "name": "stderr",
     "output_type": "stream",
     "text": [
      "[I 2025-01-30 03:55:10,823] Trial 2 finished with value: 0.9359693008640146 and parameters: {'apo-ferritin': 0.6714336965446553, 'beta-galactosidase': 0.9333971499043641, 'ribosome': 0.9213271636526326, 'thyroglobulin': 0.7790606655586134, 'virus-like-particle': 0.5316831422717564}. Best is trial 1 with value: 0.9901602208223712.\n"
     ]
    },
    {
     "name": "stdout",
     "output_type": "stream",
     "text": [
      "\n",
      "['TS_99_9']\n",
      " TS_99_9 virus-like-particle\n",
      "['TS_6_4']\n",
      " TS_6_4 virus-like-particle\n",
      "['TS_6_6']\n",
      " TS_6_6 virus-like-particle\n",
      "['TS_69_2']\n",
      " TS_69_2 virus-like-particle\n",
      "['TS_73_6']\n",
      " TS_73_6 virus-like-particle\n",
      "['TS_86_3']\n",
      " TS_86_3 virus-like-particle\n",
      "['TS_5_4']\n",
      " TS_5_4 virus-like-particle"
     ]
    },
    {
     "name": "stderr",
     "output_type": "stream",
     "text": [
      "[I 2025-01-30 03:55:56,760] Trial 3 finished with value: 0.9784071760868501 and parameters: {'apo-ferritin': 0.7590854401998633, 'beta-galactosidase': 0.6756602023599578, 'ribosome': 0.7441914707143786, 'thyroglobulin': 0.7401886992937692, 'virus-like-particle': 0.9689009471652651}. Best is trial 1 with value: 0.9901602208223712.\n"
     ]
    },
    {
     "name": "stdout",
     "output_type": "stream",
     "text": [
      "\n",
      "['TS_99_9']\n",
      " TS_99_9 virus-like-particle\n",
      "['TS_6_4']\n",
      " TS_6_4 virus-like-particle\n",
      "['TS_6_6']\n",
      " TS_6_6 virus-like-particle\n",
      "['TS_69_2']\n",
      " TS_69_2 virus-like-particle\n",
      "['TS_73_6']\n",
      " TS_73_6 virus-like-particle\n",
      "['TS_86_3']\n",
      " TS_86_3 virus-like-particle\n",
      "['TS_5_4']\n",
      " TS_5_4 virus-like-particle"
     ]
    },
    {
     "name": "stderr",
     "output_type": "stream",
     "text": [
      "[I 2025-01-30 03:56:44,438] Trial 4 finished with value: 0.9782404070006022 and parameters: {'apo-ferritin': 0.6963771806493284, 'beta-galactosidase': 0.888131369957573, 'ribosome': 0.7572309490970761, 'thyroglobulin': 0.9225651677357654, 'virus-like-particle': 0.5761474972248896}. Best is trial 1 with value: 0.9901602208223712.\n"
     ]
    },
    {
     "name": "stdout",
     "output_type": "stream",
     "text": [
      "\n",
      "['TS_99_9']\n",
      " TS_99_9 virus-like-particle\n",
      "['TS_6_4']\n",
      " TS_6_4 virus-like-particle\n",
      "['TS_6_6']\n",
      " TS_6_6 virus-like-particle\n",
      "['TS_69_2']\n",
      " TS_69_2 virus-like-particle\n",
      "['TS_73_6']\n",
      " TS_73_6 virus-like-particle\n",
      "['TS_86_3']\n",
      " TS_86_3 virus-like-particle\n",
      "['TS_5_4']\n",
      " TS_5_4 virus-like-particle"
     ]
    },
    {
     "name": "stderr",
     "output_type": "stream",
     "text": [
      "[I 2025-01-30 03:57:30,967] Trial 5 finished with value: 0.9683339003599652 and parameters: {'apo-ferritin': 0.7078556198705128, 'beta-galactosidase': 0.982382859969638, 'ribosome': 0.819605078399383, 'thyroglobulin': 0.6802838121541712, 'virus-like-particle': 0.9436566842836129}. Best is trial 1 with value: 0.9901602208223712.\n"
     ]
    },
    {
     "name": "stdout",
     "output_type": "stream",
     "text": [
      "\n",
      "['TS_99_9']\n",
      " TS_99_9 virus-like-particle\n",
      "['TS_6_4']\n",
      " TS_6_4 virus-like-particle\n",
      "['TS_6_6']\n",
      " TS_6_6 virus-like-particle\n",
      "['TS_69_2']\n",
      " TS_69_2 virus-like-particle\n",
      "['TS_73_6']\n",
      " TS_73_6 virus-like-particle\n",
      "['TS_86_3']\n",
      " TS_86_3 virus-like-particle\n",
      "['TS_5_4']\n",
      " TS_5_4 virus-like-particle"
     ]
    },
    {
     "name": "stderr",
     "output_type": "stream",
     "text": [
      "[I 2025-01-30 03:58:19,775] Trial 6 finished with value: 0.9197147137403766 and parameters: {'apo-ferritin': 0.7072749624597514, 'beta-galactosidase': 0.6686289659592877, 'ribosome': 0.977080681744537, 'thyroglobulin': 0.6299925732906465, 'virus-like-particle': 0.5567352497322902}. Best is trial 1 with value: 0.9901602208223712.\n"
     ]
    },
    {
     "name": "stdout",
     "output_type": "stream",
     "text": [
      "\n",
      "['TS_99_9']\n",
      " TS_99_9 virus-like-particle\n",
      "['TS_6_4']\n",
      " TS_6_4 virus-like-particle\n",
      "['TS_6_6']\n",
      " TS_6_6 virus-like-particle\n",
      "['TS_69_2']\n",
      " TS_69_2 virus-like-particle\n",
      "['TS_73_6']\n",
      " TS_73_6 virus-like-particle\n",
      "['TS_86_3']\n",
      " TS_86_3 virus-like-particle\n",
      "['TS_5_4']\n",
      " TS_5_4 virus-like-particle"
     ]
    },
    {
     "name": "stderr",
     "output_type": "stream",
     "text": [
      "[I 2025-01-30 03:59:08,506] Trial 7 finished with value: 0.9176143668125146 and parameters: {'apo-ferritin': 0.9818804568896362, 'beta-galactosidase': 0.527706566965372, 'ribosome': 0.8127003376837025, 'thyroglobulin': 0.7391792614761019, 'virus-like-particle': 0.85359319285829}. Best is trial 1 with value: 0.9901602208223712.\n"
     ]
    },
    {
     "name": "stdout",
     "output_type": "stream",
     "text": [
      "\n",
      "['TS_99_9']\n",
      " TS_99_9 virus-like-particle\n",
      "['TS_6_4']\n",
      " TS_6_4 virus-like-particle\n",
      "['TS_6_6']\n",
      " TS_6_6 virus-like-particle\n",
      "['TS_69_2']\n",
      " TS_69_2 virus-like-particle\n",
      "['TS_73_6']\n",
      " TS_73_6 virus-like-particle\n",
      "['TS_86_3']\n",
      " TS_86_3 virus-like-particle\n",
      "['TS_5_4']\n",
      " TS_5_4 virus-like-particle"
     ]
    },
    {
     "name": "stderr",
     "output_type": "stream",
     "text": [
      "[I 2025-01-30 03:59:52,928] Trial 8 finished with value: 0.9859004548251872 and parameters: {'apo-ferritin': 0.759026707581663, 'beta-galactosidase': 0.949749243150583, 'ribosome': 0.6968803610037095, 'thyroglobulin': 0.5367351808447784, 'virus-like-particle': 0.822471428219478}. Best is trial 1 with value: 0.9901602208223712.\n"
     ]
    },
    {
     "name": "stdout",
     "output_type": "stream",
     "text": [
      "\n",
      "['TS_99_9']\n",
      " TS_99_9 virus-like-particle\n",
      "['TS_6_4']\n",
      " TS_6_4 virus-like-particle\n",
      "['TS_6_6']\n",
      " TS_6_6 virus-like-particle\n",
      "['TS_69_2']\n",
      " TS_69_2 virus-like-particle\n",
      "['TS_73_6']\n",
      " TS_73_6 virus-like-particle\n",
      "['TS_86_3']\n",
      " TS_86_3 virus-like-particle\n",
      "['TS_5_4']\n",
      " TS_5_4 virus-like-particle"
     ]
    },
    {
     "name": "stderr",
     "output_type": "stream",
     "text": [
      "[I 2025-01-30 04:00:38,874] Trial 9 finished with value: 0.9800462171106553 and parameters: {'apo-ferritin': 0.7587891702027312, 'beta-galactosidase': 0.8334664790029298, 'ribosome': 0.672037653883562, 'thyroglobulin': 0.8753334018408018, 'virus-like-particle': 0.7194929798497652}. Best is trial 1 with value: 0.9901602208223712.\n"
     ]
    },
    {
     "name": "stdout",
     "output_type": "stream",
     "text": [
      "\n",
      "['TS_99_9']\n",
      " TS_99_9 virus-like-particle\n",
      "['TS_6_4']\n",
      " TS_6_4 virus-like-particle\n",
      "['TS_6_6']\n",
      " TS_6_6 virus-like-particle\n",
      "['TS_69_2']\n",
      " TS_69_2 virus-like-particle\n",
      "['TS_73_6']\n",
      " TS_73_6 virus-like-particle\n",
      "['TS_86_3']\n",
      " TS_86_3 virus-like-particle\n",
      "['TS_5_4']\n",
      " TS_5_4 virus-like-particle"
     ]
    },
    {
     "name": "stderr",
     "output_type": "stream",
     "text": [
      "[I 2025-01-30 04:01:23,034] Trial 10 finished with value: 0.9902098447291432 and parameters: {'apo-ferritin': 0.5074237325808717, 'beta-galactosidase': 0.5008313065452823, 'ribosome': 0.5232790268394885, 'thyroglobulin': 0.8386967994340333, 'virus-like-particle': 0.667828052465069}. Best is trial 10 with value: 0.9902098447291432.\n"
     ]
    },
    {
     "name": "stdout",
     "output_type": "stream",
     "text": [
      "\n",
      "['TS_99_9']\n",
      " TS_99_9 virus-like-particle\n",
      "['TS_6_4']\n",
      " TS_6_4 virus-like-particle\n",
      "['TS_6_6']\n",
      " TS_6_6 virus-like-particle\n",
      "['TS_69_2']\n",
      " TS_69_2 virus-like-particle\n",
      "['TS_73_6']\n",
      " TS_73_6 virus-like-particle\n",
      "['TS_86_3']\n",
      " TS_86_3 virus-like-particle\n",
      "['TS_5_4']\n",
      " TS_5_4 virus-like-particle"
     ]
    },
    {
     "name": "stderr",
     "output_type": "stream",
     "text": [
      "[I 2025-01-30 04:02:08,014] Trial 11 finished with value: 0.9902267945550504 and parameters: {'apo-ferritin': 0.5106978435785003, 'beta-galactosidase': 0.5057601602473453, 'ribosome': 0.5143694036358897, 'thyroglobulin': 0.8394128682318277, 'virus-like-particle': 0.6848524497576755}. Best is trial 11 with value: 0.9902267945550504.\n"
     ]
    },
    {
     "name": "stdout",
     "output_type": "stream",
     "text": [
      "\n",
      "['TS_99_9']\n",
      " TS_99_9 virus-like-particle\n",
      "['TS_6_4']\n",
      " TS_6_4 virus-like-particle\n",
      "['TS_6_6']\n",
      " TS_6_6 virus-like-particle\n",
      "['TS_69_2']\n",
      " TS_69_2 virus-like-particle\n",
      "['TS_73_6']\n",
      " TS_73_6 virus-like-particle\n",
      "['TS_86_3']\n",
      " TS_86_3 virus-like-particle\n",
      "['TS_5_4']\n",
      " TS_5_4 virus-like-particle"
     ]
    },
    {
     "name": "stderr",
     "output_type": "stream",
     "text": [
      "[I 2025-01-30 04:02:53,157] Trial 12 finished with value: 0.988693764645135 and parameters: {'apo-ferritin': 0.5255929613489443, 'beta-galactosidase': 0.6014246404112505, 'ribosome': 0.5020338776343327, 'thyroglobulin': 0.9919387498637142, 'virus-like-particle': 0.6516402265166642}. Best is trial 11 with value: 0.9902267945550504.\n"
     ]
    },
    {
     "name": "stdout",
     "output_type": "stream",
     "text": [
      "\n",
      "['TS_99_9']\n",
      " TS_99_9 virus-like-particle\n",
      "['TS_6_4']\n",
      " TS_6_4 virus-like-particle\n",
      "['TS_6_6']\n",
      " TS_6_6 virus-like-particle\n",
      "['TS_69_2']\n",
      " TS_69_2 virus-like-particle\n",
      "['TS_73_6']\n",
      " TS_73_6 virus-like-particle\n",
      "['TS_86_3']\n",
      " TS_86_3 virus-like-particle\n",
      "['TS_5_4']\n",
      " TS_5_4 virus-like-particle"
     ]
    },
    {
     "name": "stderr",
     "output_type": "stream",
     "text": [
      "[I 2025-01-30 04:03:37,315] Trial 13 finished with value: 0.9903329692882339 and parameters: {'apo-ferritin': 0.5847479953734358, 'beta-galactosidase': 0.6033811740210456, 'ribosome': 0.5120348558853763, 'thyroglobulin': 0.858111739738761, 'virus-like-particle': 0.650096167073908}. Best is trial 13 with value: 0.9903329692882339.\n"
     ]
    },
    {
     "name": "stdout",
     "output_type": "stream",
     "text": [
      "\n",
      "['TS_99_9']\n",
      " TS_99_9 virus-like-particle\n",
      "['TS_6_4']\n",
      " TS_6_4 virus-like-particle\n",
      "['TS_6_6']\n",
      " TS_6_6 virus-like-particle\n",
      "['TS_69_2']\n",
      " TS_69_2 virus-like-particle\n",
      "['TS_73_6']\n",
      " TS_73_6 virus-like-particle\n",
      "['TS_86_3']\n",
      " TS_86_3 virus-like-particle\n",
      "['TS_5_4']\n",
      " TS_5_4 virus-like-particle"
     ]
    },
    {
     "name": "stderr",
     "output_type": "stream",
     "text": [
      "[I 2025-01-30 04:04:21,595] Trial 14 finished with value: 0.9904101021687768 and parameters: {'apo-ferritin': 0.599164055205079, 'beta-galactosidase': 0.6068356331963138, 'ribosome': 0.582203524749789, 'thyroglobulin': 0.8426565055635495, 'virus-like-particle': 0.6354391541238245}. Best is trial 14 with value: 0.9904101021687768.\n"
     ]
    },
    {
     "name": "stdout",
     "output_type": "stream",
     "text": [
      "\n",
      "['TS_99_9']\n",
      " TS_99_9 virus-like-particle\n",
      "['TS_6_4']\n",
      " TS_6_4 virus-like-particle\n",
      "['TS_6_6']\n",
      " TS_6_6 virus-like-particle\n",
      "['TS_69_2']\n",
      " TS_69_2 virus-like-particle\n",
      "['TS_73_6']\n",
      " TS_73_6 virus-like-particle\n",
      "['TS_86_3']\n",
      " TS_86_3 virus-like-particle\n",
      "['TS_5_4']\n",
      " TS_5_4 virus-like-particle"
     ]
    },
    {
     "name": "stderr",
     "output_type": "stream",
     "text": [
      "[I 2025-01-30 04:05:06,475] Trial 15 finished with value: 0.9906787354295796 and parameters: {'apo-ferritin': 0.6195412543038028, 'beta-galactosidase': 0.7462476554707025, 'ribosome': 0.5901474775637054, 'thyroglobulin': 0.9561833572355498, 'virus-like-particle': 0.6142801059032089}. Best is trial 15 with value: 0.9906787354295796.\n"
     ]
    },
    {
     "name": "stdout",
     "output_type": "stream",
     "text": [
      "\n",
      "['TS_99_9']\n",
      " TS_99_9 virus-like-particle\n",
      "['TS_6_4']\n",
      " TS_6_4 virus-like-particle\n",
      "['TS_6_6']\n",
      " TS_6_6 virus-like-particle\n",
      "['TS_69_2']\n",
      " TS_69_2 virus-like-particle\n",
      "['TS_73_6']\n",
      " TS_73_6 virus-like-particle\n",
      "['TS_86_3']\n",
      " TS_86_3 virus-like-particle\n",
      "['TS_5_4']\n",
      " TS_5_4 virus-like-particle"
     ]
    },
    {
     "name": "stderr",
     "output_type": "stream",
     "text": [
      "[I 2025-01-30 04:05:51,862] Trial 16 finished with value: 0.9642033053365721 and parameters: {'apo-ferritin': 0.8527578953406683, 'beta-galactosidase': 0.775251354666255, 'ribosome': 0.6127207734201123, 'thyroglobulin': 0.9838516135291995, 'virus-like-particle': 0.6029292400946895}. Best is trial 15 with value: 0.9906787354295796.\n"
     ]
    },
    {
     "name": "stdout",
     "output_type": "stream",
     "text": [
      "\n",
      "['TS_99_9']\n",
      " TS_99_9 virus-like-particle\n",
      "['TS_6_4']\n",
      " TS_6_4 virus-like-particle\n",
      "['TS_6_6']\n",
      " TS_6_6 virus-like-particle\n",
      "['TS_69_2']\n",
      " TS_69_2 virus-like-particle\n",
      "['TS_73_6']\n",
      " TS_73_6 virus-like-particle\n",
      "['TS_86_3']\n",
      " TS_86_3 virus-like-particle\n",
      "['TS_5_4']\n",
      " TS_5_4 virus-like-particle"
     ]
    },
    {
     "name": "stderr",
     "output_type": "stream",
     "text": [
      "[I 2025-01-30 04:06:36,472] Trial 17 finished with value: 0.9904933158062048 and parameters: {'apo-ferritin': 0.6037988250758419, 'beta-galactosidase': 0.743273467924805, 'ribosome': 0.5877973946826894, 'thyroglobulin': 0.9238052776389725, 'virus-like-particle': 0.5197017583108507}. Best is trial 15 with value: 0.9906787354295796.\n"
     ]
    },
    {
     "name": "stdout",
     "output_type": "stream",
     "text": [
      "\n",
      "['TS_99_9']\n",
      " TS_99_9 virus-like-particle\n",
      "['TS_6_4']\n",
      " TS_6_4 virus-like-particle\n",
      "['TS_6_6']\n",
      " TS_6_6 virus-like-particle\n",
      "['TS_69_2']\n",
      " TS_69_2 virus-like-particle\n",
      "['TS_73_6']\n",
      " TS_73_6 virus-like-particle\n",
      "['TS_86_3']\n",
      " TS_86_3 virus-like-particle\n",
      "['TS_5_4']\n",
      " TS_5_4 virus-like-particle"
     ]
    },
    {
     "name": "stderr",
     "output_type": "stream",
     "text": [
      "[I 2025-01-30 04:07:24,048] Trial 18 finished with value: 0.9704204956739888 and parameters: {'apo-ferritin': 0.8397100792496991, 'beta-galactosidase': 0.7574040742201712, 'ribosome': 0.6084549522277741, 'thyroglobulin': 0.9411020363644016, 'virus-like-particle': 0.5117068205320986}. Best is trial 15 with value: 0.9906787354295796.\n"
     ]
    },
    {
     "name": "stdout",
     "output_type": "stream",
     "text": [
      "\n",
      "['TS_99_9']\n",
      " TS_99_9 virus-like-particle\n",
      "['TS_6_4']\n",
      " TS_6_4 virus-like-particle\n",
      "['TS_6_6']\n",
      " TS_6_6 virus-like-particle\n",
      "['TS_69_2']\n",
      " TS_69_2 virus-like-particle\n",
      "['TS_73_6']\n",
      " TS_73_6 virus-like-particle\n",
      "['TS_86_3']\n",
      " TS_86_3 virus-like-particle\n",
      "['TS_5_4']\n",
      " TS_5_4 virus-like-particle"
     ]
    },
    {
     "name": "stderr",
     "output_type": "stream",
     "text": [
      "[I 2025-01-30 04:08:08,444] Trial 19 finished with value: 0.9901447344057867 and parameters: {'apo-ferritin': 0.6261687124202097, 'beta-galactosidase': 0.7049018251832752, 'ribosome': 0.5754933926396709, 'thyroglobulin': 0.9258689716487558, 'virus-like-particle': 0.5981874923048303}. Best is trial 15 with value: 0.9906787354295796.\n"
     ]
    },
    {
     "name": "stdout",
     "output_type": "stream",
     "text": [
      "\n",
      "['TS_99_9']\n",
      " TS_99_9 virus-like-particle\n",
      "['TS_6_4']\n",
      " TS_6_4 virus-like-particle\n",
      "['TS_6_6']\n",
      " TS_6_6 virus-like-particle\n",
      "['TS_69_2']\n",
      " TS_69_2 virus-like-particle\n",
      "['TS_73_6']\n",
      " TS_73_6 virus-like-particle\n",
      "['TS_86_3']\n",
      " TS_86_3 virus-like-particle\n",
      "['TS_5_4']\n",
      " TS_5_4 virus-like-particle"
     ]
    },
    {
     "name": "stderr",
     "output_type": "stream",
     "text": [
      "[I 2025-01-30 04:08:56,263] Trial 20 finished with value: 0.9782975055014592 and parameters: {'apo-ferritin': 0.819668417358644, 'beta-galactosidase': 0.788680255823797, 'ribosome': 0.6437703767614217, 'thyroglobulin': 0.8998628322001941, 'virus-like-particle': 0.805550138711317}. Best is trial 15 with value: 0.9906787354295796.\n"
     ]
    },
    {
     "name": "stdout",
     "output_type": "stream",
     "text": [
      "\n",
      "['TS_99_9']\n",
      " TS_99_9 virus-like-particle\n",
      "['TS_6_4']\n",
      " TS_6_4 virus-like-particle\n",
      "['TS_6_6']\n",
      " TS_6_6 virus-like-particle\n",
      "['TS_69_2']\n",
      " TS_69_2 virus-like-particle\n",
      "['TS_73_6']\n",
      " TS_73_6 virus-like-particle\n",
      "['TS_86_3']\n",
      " TS_86_3 virus-like-particle\n",
      "['TS_5_4']\n",
      " TS_5_4 virus-like-particle"
     ]
    },
    {
     "name": "stderr",
     "output_type": "stream",
     "text": [
      "[I 2025-01-30 04:09:40,098] Trial 21 finished with value: 0.9924361301603084 and parameters: {'apo-ferritin': 0.6032494284208305, 'beta-galactosidase': 0.7080267901912173, 'ribosome': 0.5727675767735191, 'thyroglobulin': 0.8009483589900275, 'virus-like-particle': 0.5068583500811049}. Best is trial 21 with value: 0.9924361301603084.\n"
     ]
    },
    {
     "name": "stdout",
     "output_type": "stream",
     "text": [
      "\n",
      "['TS_99_9']\n",
      " TS_99_9 virus-like-particle\n",
      "['TS_6_4']\n",
      " TS_6_4 virus-like-particle\n",
      "['TS_6_6']\n",
      " TS_6_6 virus-like-particle\n",
      "['TS_69_2']\n",
      " TS_69_2 virus-like-particle\n",
      "['TS_73_6']\n",
      " TS_73_6 virus-like-particle\n",
      "['TS_86_3']\n",
      " TS_86_3 virus-like-particle\n",
      "['TS_5_4']\n",
      " TS_5_4 virus-like-particle"
     ]
    },
    {
     "name": "stderr",
     "output_type": "stream",
     "text": [
      "[I 2025-01-30 04:10:26,780] Trial 22 finished with value: 0.9904623533815186 and parameters: {'apo-ferritin': 0.5748512668603291, 'beta-galactosidase': 0.7073882080616981, 'ribosome': 0.5721025352631742, 'thyroglobulin': 0.9684481666426517, 'virus-like-particle': 0.5080050009363365}. Best is trial 21 with value: 0.9924361301603084.\n"
     ]
    },
    {
     "name": "stdout",
     "output_type": "stream",
     "text": [
      "\n",
      "['TS_99_9']\n",
      " TS_99_9 virus-like-particle\n",
      "['TS_6_4']\n",
      " TS_6_4 virus-like-particle\n",
      "['TS_6_6']\n",
      " TS_6_6 virus-like-particle\n",
      "['TS_69_2']\n",
      " TS_69_2 virus-like-particle\n",
      "['TS_73_6']\n",
      " TS_73_6 virus-like-particle\n",
      "['TS_86_3']\n",
      " TS_86_3 virus-like-particle\n",
      "['TS_5_4']\n",
      " TS_5_4 virus-like-particle"
     ]
    },
    {
     "name": "stderr",
     "output_type": "stream",
     "text": [
      "[I 2025-01-30 04:11:10,954] Trial 23 finished with value: 0.9921629492365931 and parameters: {'apo-ferritin': 0.6283059885940377, 'beta-galactosidase': 0.8144285264476598, 'ribosome': 0.5570738341164021, 'thyroglobulin': 0.8016799553194657, 'virus-like-particle': 0.5485357654178682}. Best is trial 21 with value: 0.9924361301603084.\n"
     ]
    },
    {
     "name": "stdout",
     "output_type": "stream",
     "text": [
      "\n",
      "['TS_99_9']\n",
      " TS_99_9 virus-like-particle\n",
      "['TS_6_4']\n",
      " TS_6_4 virus-like-particle\n",
      "['TS_6_6']\n",
      " TS_6_6 virus-like-particle\n",
      "['TS_69_2']\n",
      " TS_69_2 virus-like-particle\n",
      "['TS_73_6']\n",
      " TS_73_6 virus-like-particle\n",
      "['TS_86_3']\n",
      " TS_86_3 virus-like-particle\n",
      "['TS_5_4']\n",
      " TS_5_4 virus-like-particle"
     ]
    },
    {
     "name": "stderr",
     "output_type": "stream",
     "text": [
      "[I 2025-01-30 04:11:57,586] Trial 24 finished with value: 0.9923171336772356 and parameters: {'apo-ferritin': 0.6526234923523624, 'beta-galactosidase': 0.8199169831917414, 'ribosome': 0.6413626490983353, 'thyroglobulin': 0.7957542053493278, 'virus-like-particle': 0.560331750459491}. Best is trial 21 with value: 0.9924361301603084.\n"
     ]
    },
    {
     "name": "stdout",
     "output_type": "stream",
     "text": [
      "\n",
      "['TS_99_9']\n",
      " TS_99_9 virus-like-particle\n",
      "['TS_6_4']\n",
      " TS_6_4 virus-like-particle\n",
      "['TS_6_6']\n",
      " TS_6_6 virus-like-particle\n",
      "['TS_69_2']\n",
      " TS_69_2 virus-like-particle\n",
      "['TS_73_6']\n",
      " TS_73_6 virus-like-particle\n",
      "['TS_86_3']\n",
      " TS_86_3 virus-like-particle\n",
      "['TS_5_4']\n",
      " TS_5_4 virus-like-particle"
     ]
    },
    {
     "name": "stderr",
     "output_type": "stream",
     "text": [
      "[I 2025-01-30 04:12:41,926] Trial 25 finished with value: 0.9923355592061802 and parameters: {'apo-ferritin': 0.6640509775260778, 'beta-galactosidase': 0.8141701652412898, 'ribosome': 0.6429421291905311, 'thyroglobulin': 0.7982566236057553, 'virus-like-particle': 0.5685679061070265}. Best is trial 21 with value: 0.9924361301603084.\n"
     ]
    },
    {
     "name": "stdout",
     "output_type": "stream",
     "text": [
      "\n",
      "['TS_99_9']\n",
      " TS_99_9 virus-like-particle\n",
      "['TS_6_4']\n",
      " TS_6_4 virus-like-particle\n",
      "['TS_6_6']\n",
      " TS_6_6 virus-like-particle\n",
      "['TS_69_2']\n",
      " TS_69_2 virus-like-particle\n",
      "['TS_73_6']\n",
      " TS_73_6 virus-like-particle\n",
      "['TS_86_3']\n",
      " TS_86_3 virus-like-particle\n",
      "['TS_5_4']\n",
      " TS_5_4 virus-like-particle"
     ]
    },
    {
     "name": "stderr",
     "output_type": "stream",
     "text": [
      "[I 2025-01-30 04:13:27,262] Trial 26 finished with value: 0.9866780307036972 and parameters: {'apo-ferritin': 0.6674144621699692, 'beta-galactosidase': 0.9018541249620234, 'ribosome': 0.7366930845136863, 'thyroglobulin': 0.6819637450153706, 'virus-like-particle': 0.5639897697535149}. Best is trial 21 with value: 0.9924361301603084.\n"
     ]
    },
    {
     "name": "stdout",
     "output_type": "stream",
     "text": [
      "\n",
      "['TS_99_9']\n",
      " TS_99_9 virus-like-particle\n",
      "['TS_6_4']\n",
      " TS_6_4 virus-like-particle\n",
      "['TS_6_6']\n",
      " TS_6_6 virus-like-particle\n",
      "['TS_69_2']\n",
      " TS_69_2 virus-like-particle\n",
      "['TS_73_6']\n",
      " TS_73_6 virus-like-particle\n",
      "['TS_86_3']\n",
      " TS_86_3 virus-like-particle\n",
      "['TS_5_4']\n",
      " TS_5_4 virus-like-particle"
     ]
    },
    {
     "name": "stderr",
     "output_type": "stream",
     "text": [
      "[I 2025-01-30 04:14:11,835] Trial 27 finished with value: 0.9888476890667485 and parameters: {'apo-ferritin': 0.7317696718224538, 'beta-galactosidase': 0.8637111927594073, 'ribosome': 0.6536576166763433, 'thyroglobulin': 0.7052641841259035, 'virus-like-particle': 0.5021313281272988}. Best is trial 21 with value: 0.9924361301603084.\n"
     ]
    },
    {
     "name": "stdout",
     "output_type": "stream",
     "text": [
      "\n",
      "['TS_99_9']\n",
      " TS_99_9 virus-like-particle\n",
      "['TS_6_4']\n",
      " TS_6_4 virus-like-particle\n",
      "['TS_6_6']\n",
      " TS_6_6 virus-like-particle\n",
      "['TS_69_2']\n",
      " TS_69_2 virus-like-particle\n",
      "['TS_73_6']\n",
      " TS_73_6 virus-like-particle\n",
      "['TS_86_3']\n",
      " TS_86_3 virus-like-particle\n",
      "['TS_5_4']\n",
      " TS_5_4 virus-like-particle"
     ]
    },
    {
     "name": "stderr",
     "output_type": "stream",
     "text": [
      "[I 2025-01-30 04:14:57,131] Trial 28 finished with value: 0.9925950517080162 and parameters: {'apo-ferritin': 0.5506532753210067, 'beta-galactosidase': 0.8181855763843369, 'ribosome': 0.6404025202353884, 'thyroglobulin': 0.7908059578481869, 'virus-like-particle': 0.5747745433356004}. Best is trial 28 with value: 0.9925950517080162.\n"
     ]
    },
    {
     "name": "stdout",
     "output_type": "stream",
     "text": [
      "\n",
      "['TS_99_9']\n",
      " TS_99_9 virus-like-particle\n",
      "['TS_6_4']\n",
      " TS_6_4 virus-like-particle\n",
      "['TS_6_6']\n",
      " TS_6_6 virus-like-particle\n",
      "['TS_69_2']\n",
      " TS_69_2 virus-like-particle\n",
      "['TS_73_6']\n",
      " TS_73_6 virus-like-particle\n",
      "['TS_86_3']\n",
      " TS_86_3 virus-like-particle\n",
      "['TS_5_4']\n",
      " TS_5_4 virus-like-particle"
     ]
    },
    {
     "name": "stderr",
     "output_type": "stream",
     "text": [
      "[I 2025-01-30 04:15:41,413] Trial 29 finished with value: 0.9972337813770555 and parameters: {'apo-ferritin': 0.5565226872158138, 'beta-galactosidase': 0.796779799861751, 'ribosome': 0.7061821227227026, 'thyroglobulin': 0.6097444612857026, 'virus-like-particle': 0.6992960846513763}. Best is trial 29 with value: 0.9972337813770555.\n"
     ]
    },
    {
     "name": "stdout",
     "output_type": "stream",
     "text": [
      "\n",
      "['TS_99_9']\n",
      " TS_99_9 virus-like-particle\n",
      "['TS_6_4']\n",
      " TS_6_4 virus-like-particle\n",
      "['TS_6_6']\n",
      " TS_6_6 virus-like-particle\n",
      "['TS_69_2']\n",
      " TS_69_2 virus-like-particle\n",
      "['TS_73_6']\n",
      " TS_73_6 virus-like-particle\n",
      "['TS_86_3']\n",
      " TS_86_3 virus-like-particle\n",
      "['TS_5_4']\n",
      " TS_5_4 virus-like-particle"
     ]
    },
    {
     "name": "stderr",
     "output_type": "stream",
     "text": [
      "[I 2025-01-30 04:16:26,540] Trial 30 finished with value: 0.9865286426702297 and parameters: {'apo-ferritin': 0.5463101059174749, 'beta-galactosidase': 0.6591898497699261, 'ribosome': 0.7940085680041279, 'thyroglobulin': 0.5846190624996732, 'virus-like-particle': 0.7065065185393088}. Best is trial 29 with value: 0.9972337813770555.\n"
     ]
    },
    {
     "name": "stdout",
     "output_type": "stream",
     "text": [
      "\n",
      "['TS_99_9']\n",
      " TS_99_9 virus-like-particle\n",
      "['TS_6_4']\n",
      " TS_6_4 virus-like-particle\n",
      "['TS_6_6']\n",
      " TS_6_6 virus-like-particle\n",
      "['TS_69_2']\n",
      " TS_69_2 virus-like-particle\n",
      "['TS_73_6']\n",
      " TS_73_6 virus-like-particle\n",
      "['TS_86_3']\n",
      " TS_86_3 virus-like-particle\n",
      "['TS_5_4']\n",
      " TS_5_4 virus-like-particle"
     ]
    },
    {
     "name": "stderr",
     "output_type": "stream",
     "text": [
      "[I 2025-01-30 04:17:10,933] Trial 31 finished with value: 1.0005866730416086 and parameters: {'apo-ferritin': 0.5696386398774415, 'beta-galactosidase': 0.8356485991151967, 'ribosome': 0.7165412407148128, 'thyroglobulin': 0.5090680540022587, 'virus-like-particle': 0.5914741472057873}. Best is trial 31 with value: 1.0005866730416086.\n"
     ]
    },
    {
     "name": "stdout",
     "output_type": "stream",
     "text": [
      "\n",
      "['TS_99_9']\n",
      " TS_99_9 virus-like-particle\n",
      "['TS_6_4']\n",
      " TS_6_4 virus-like-particle\n",
      "['TS_6_6']\n",
      " TS_6_6 virus-like-particle\n",
      "['TS_69_2']\n",
      " TS_69_2 virus-like-particle\n",
      "['TS_73_6']\n",
      " TS_73_6 virus-like-particle\n",
      "['TS_86_3']\n",
      " TS_86_3 virus-like-particle\n",
      "['TS_5_4']\n",
      " TS_5_4 virus-like-particle"
     ]
    },
    {
     "name": "stderr",
     "output_type": "stream",
     "text": [
      "[I 2025-01-30 04:17:55,023] Trial 32 finished with value: 1.001360740137727 and parameters: {'apo-ferritin': 0.551078739417717, 'beta-galactosidase': 0.8587201863180703, 'ribosome': 0.689086765988268, 'thyroglobulin': 0.5018339930484224, 'virus-like-particle': 0.7433245026857264}. Best is trial 32 with value: 1.001360740137727.\n"
     ]
    },
    {
     "name": "stdout",
     "output_type": "stream",
     "text": [
      "\n",
      "['TS_99_9']\n",
      " TS_99_9 virus-like-particle\n",
      "['TS_6_4']\n",
      " TS_6_4 virus-like-particle\n",
      "['TS_6_6']\n",
      " TS_6_6 virus-like-particle\n",
      "['TS_69_2']\n",
      " TS_69_2 virus-like-particle\n",
      "['TS_73_6']\n",
      " TS_73_6 virus-like-particle\n",
      "['TS_86_3']\n",
      " TS_86_3 virus-like-particle\n",
      "['TS_5_4']\n",
      " TS_5_4 virus-like-particle"
     ]
    },
    {
     "name": "stderr",
     "output_type": "stream",
     "text": [
      "[I 2025-01-30 04:18:41,573] Trial 33 finished with value: 1.0014280829037505 and parameters: {'apo-ferritin': 0.5558323731663176, 'beta-galactosidase': 0.8603564366122376, 'ribosome': 0.6919845154272198, 'thyroglobulin': 0.5082451420170027, 'virus-like-particle': 0.7806110528279671}. Best is trial 33 with value: 1.0014280829037505.\n"
     ]
    },
    {
     "name": "stdout",
     "output_type": "stream",
     "text": [
      "\n",
      "['TS_99_9']\n",
      " TS_99_9 virus-like-particle\n",
      "['TS_6_4']\n",
      " TS_6_4 virus-like-particle\n",
      "['TS_6_6']\n",
      " TS_6_6 virus-like-particle\n",
      "['TS_69_2']\n",
      " TS_69_2 virus-like-particle\n",
      "['TS_73_6']\n",
      " TS_73_6 virus-like-particle\n",
      "['TS_86_3']\n",
      " TS_86_3 virus-like-particle\n",
      "['TS_5_4']\n",
      " TS_5_4 virus-like-particle"
     ]
    },
    {
     "name": "stderr",
     "output_type": "stream",
     "text": [
      "[I 2025-01-30 04:19:26,785] Trial 34 finished with value: 1.0008255959196717 and parameters: {'apo-ferritin': 0.5621014814250358, 'beta-galactosidase': 0.8625652719556774, 'ribosome': 0.7107390913371264, 'thyroglobulin': 0.5008013116088688, 'virus-like-particle': 0.7682668559139784}. Best is trial 33 with value: 1.0014280829037505.\n"
     ]
    },
    {
     "name": "stdout",
     "output_type": "stream",
     "text": [
      "\n",
      "['TS_99_9']\n",
      " TS_99_9 virus-like-particle\n",
      "['TS_6_4']\n",
      " TS_6_4 virus-like-particle\n",
      "['TS_6_6']\n",
      " TS_6_6 virus-like-particle\n",
      "['TS_69_2']\n",
      " TS_69_2 virus-like-particle\n",
      "['TS_73_6']\n",
      " TS_73_6 virus-like-particle\n",
      "['TS_86_3']\n",
      " TS_86_3 virus-like-particle\n",
      "['TS_5_4']\n",
      " TS_5_4 virus-like-particle"
     ]
    },
    {
     "name": "stderr",
     "output_type": "stream",
     "text": [
      "[I 2025-01-30 04:20:10,907] Trial 35 finished with value: 1.0008430957169865 and parameters: {'apo-ferritin': 0.5412148167410114, 'beta-galactosidase': 0.8708340724831096, 'ribosome': 0.7222547332133182, 'thyroglobulin': 0.5080020138758734, 'virus-like-particle': 0.7652709299057916}. Best is trial 33 with value: 1.0014280829037505.\n"
     ]
    },
    {
     "name": "stdout",
     "output_type": "stream",
     "text": [
      "\n",
      "['TS_99_9']\n",
      " TS_99_9 virus-like-particle\n",
      "['TS_6_4']\n",
      " TS_6_4 virus-like-particle\n",
      "['TS_6_6']\n",
      " TS_6_6 virus-like-particle\n",
      "['TS_69_2']\n",
      " TS_69_2 virus-like-particle\n",
      "['TS_73_6']\n",
      " TS_73_6 virus-like-particle\n",
      "['TS_86_3']\n",
      " TS_86_3 virus-like-particle\n",
      "['TS_5_4']\n",
      " TS_5_4 virus-like-particle"
     ]
    },
    {
     "name": "stderr",
     "output_type": "stream",
     "text": [
      "[I 2025-01-30 04:20:55,987] Trial 36 finished with value: 0.9854880178281906 and parameters: {'apo-ferritin': 0.5402015736815283, 'beta-galactosidase': 0.9104268887608815, 'ribosome': 0.7910719527586648, 'thyroglobulin': 0.561914378556601, 'virus-like-particle': 0.7677065233580092}. Best is trial 33 with value: 1.0014280829037505.\n"
     ]
    },
    {
     "name": "stdout",
     "output_type": "stream",
     "text": [
      "\n",
      "['TS_99_9']\n",
      " TS_99_9 virus-like-particle\n",
      "['TS_6_4']\n",
      " TS_6_4 virus-like-particle\n",
      "['TS_6_6']\n",
      " TS_6_6 virus-like-particle\n",
      "['TS_69_2']\n",
      " TS_69_2 virus-like-particle\n",
      "['TS_73_6']\n",
      " TS_73_6 virus-like-particle\n",
      "['TS_86_3']\n",
      " TS_86_3 virus-like-particle\n",
      "['TS_5_4']\n",
      " TS_5_4 virus-like-particle"
     ]
    },
    {
     "name": "stderr",
     "output_type": "stream",
     "text": [
      "[I 2025-01-30 04:21:41,886] Trial 37 finished with value: 0.9718693415679297 and parameters: {'apo-ferritin': 0.5053557019636532, 'beta-galactosidase': 0.8687437922165614, 'ribosome': 0.8576622945035945, 'thyroglobulin': 0.504522067997408, 'virus-like-particle': 0.7620262303557789}. Best is trial 33 with value: 1.0014280829037505.\n"
     ]
    },
    {
     "name": "stdout",
     "output_type": "stream",
     "text": [
      "\n",
      "['TS_99_9']\n",
      " TS_99_9 virus-like-particle\n",
      "['TS_6_4']\n",
      " TS_6_4 virus-like-particle\n",
      "['TS_6_6']\n",
      " TS_6_6 virus-like-particle\n",
      "['TS_69_2']\n",
      " TS_69_2 virus-like-particle\n",
      "['TS_73_6']\n",
      " TS_73_6 virus-like-particle\n",
      "['TS_86_3']\n",
      " TS_86_3 virus-like-particle\n",
      "['TS_5_4']\n",
      " TS_5_4 virus-like-particle"
     ]
    },
    {
     "name": "stderr",
     "output_type": "stream",
     "text": [
      "[I 2025-01-30 04:22:27,921] Trial 38 finished with value: 0.9943235590541376 and parameters: {'apo-ferritin': 0.531726255826256, 'beta-galactosidase': 0.9460248651826465, 'ribosome': 0.7464484993377877, 'thyroglobulin': 0.5399883331017598, 'virus-like-particle': 0.8609561148322035}. Best is trial 33 with value: 1.0014280829037505.\n"
     ]
    },
    {
     "name": "stdout",
     "output_type": "stream",
     "text": [
      "\n",
      "['TS_99_9']\n",
      " TS_99_9 virus-like-particle\n",
      "['TS_6_4']\n",
      " TS_6_4 virus-like-particle\n",
      "['TS_6_6']\n",
      " TS_6_6 virus-like-particle\n",
      "['TS_69_2']\n",
      " TS_69_2 virus-like-particle\n",
      "['TS_73_6']\n",
      " TS_73_6 virus-like-particle\n",
      "['TS_86_3']\n",
      " TS_86_3 virus-like-particle\n",
      "['TS_5_4']\n",
      " TS_5_4 virus-like-particle"
     ]
    },
    {
     "name": "stderr",
     "output_type": "stream",
     "text": [
      "[I 2025-01-30 04:23:14,092] Trial 39 finished with value: 0.9275889826576476 and parameters: {'apo-ferritin': 0.9929605118080722, 'beta-galactosidase': 0.920162885836346, 'ribosome': 0.7769284035859694, 'thyroglobulin': 0.6288283245400335, 'virus-like-particle': 0.7384815080404183}. Best is trial 33 with value: 1.0014280829037505.\n"
     ]
    },
    {
     "name": "stdout",
     "output_type": "stream",
     "text": [
      "\n",
      "['TS_99_9']\n",
      " TS_99_9 virus-like-particle\n",
      "['TS_6_4']\n",
      " TS_6_4 virus-like-particle\n",
      "['TS_6_6']\n",
      " TS_6_6 virus-like-particle\n",
      "['TS_69_2']\n",
      " TS_69_2 virus-like-particle\n",
      "['TS_73_6']\n",
      " TS_73_6 virus-like-particle\n",
      "['TS_86_3']\n",
      " TS_86_3 virus-like-particle\n",
      "['TS_5_4']\n",
      " TS_5_4 virus-like-particle"
     ]
    },
    {
     "name": "stderr",
     "output_type": "stream",
     "text": [
      "[I 2025-01-30 04:23:58,110] Trial 40 finished with value: 0.9512279517224577 and parameters: {'apo-ferritin': 0.9352552732922947, 'beta-galactosidase': 0.9843602450988963, 'ribosome': 0.684310284380334, 'thyroglobulin': 0.538671034225312, 'virus-like-particle': 0.7924848376218929}. Best is trial 33 with value: 1.0014280829037505.\n"
     ]
    },
    {
     "name": "stdout",
     "output_type": "stream",
     "text": [
      "\n",
      "['TS_99_9']\n",
      " TS_99_9 virus-like-particle\n",
      "['TS_6_4']\n",
      " TS_6_4 virus-like-particle\n",
      "['TS_6_6']\n",
      " TS_6_6 virus-like-particle\n",
      "['TS_69_2']\n",
      " TS_69_2 virus-like-particle\n",
      "['TS_73_6']\n",
      " TS_73_6 virus-like-particle\n",
      "['TS_86_3']\n",
      " TS_86_3 virus-like-particle\n",
      "['TS_5_4']\n",
      " TS_5_4 virus-like-particle"
     ]
    },
    {
     "name": "stderr",
     "output_type": "stream",
     "text": [
      "[I 2025-01-30 04:24:42,302] Trial 41 finished with value: 0.9950279362194898 and parameters: {'apo-ferritin': 0.5591769261244967, 'beta-galactosidase': 0.8836110196375215, 'ribosome': 0.713410828940066, 'thyroglobulin': 0.5104624811093323, 'virus-like-particle': 0.8792313719738601}. Best is trial 33 with value: 1.0014280829037505.\n"
     ]
    },
    {
     "name": "stdout",
     "output_type": "stream",
     "text": [
      "\n",
      "['TS_99_9']\n",
      " TS_99_9 virus-like-particle\n",
      "['TS_6_4']\n",
      " TS_6_4 virus-like-particle\n",
      "['TS_6_6']\n",
      " TS_6_6 virus-like-particle\n",
      "['TS_69_2']\n",
      " TS_69_2 virus-like-particle\n",
      "['TS_73_6']\n",
      " TS_73_6 virus-like-particle\n",
      "['TS_86_3']\n",
      " TS_86_3 virus-like-particle\n",
      "['TS_5_4']\n",
      " TS_5_4 virus-like-particle"
     ]
    },
    {
     "name": "stderr",
     "output_type": "stream",
     "text": [
      "[I 2025-01-30 04:25:26,981] Trial 42 finished with value: 1.000894047940926 and parameters: {'apo-ferritin': 0.5737268251113661, 'beta-galactosidase': 0.8580695096695877, 'ribosome': 0.7231050211265164, 'thyroglobulin': 0.5712200130137163, 'virus-like-particle': 0.7352518889433152}. Best is trial 33 with value: 1.0014280829037505.\n"
     ]
    },
    {
     "name": "stdout",
     "output_type": "stream",
     "text": [
      "\n",
      "['TS_99_9']\n",
      " TS_99_9 virus-like-particle\n",
      "['TS_6_4']\n",
      " TS_6_4 virus-like-particle\n",
      "['TS_6_6']\n",
      " TS_6_6 virus-like-particle\n",
      "['TS_69_2']\n",
      " TS_69_2 virus-like-particle\n",
      "['TS_73_6']\n",
      " TS_73_6 virus-like-particle\n",
      "['TS_86_3']\n",
      " TS_86_3 virus-like-particle\n",
      "['TS_5_4']\n",
      " TS_5_4 virus-like-particle\n"
     ]
    },
    {
     "name": "stderr",
     "output_type": "stream",
     "text": [
      "[I 2025-01-30 04:26:12,457] Trial 43 finished with value: 0.9957891731680396 and parameters: {'apo-ferritin': 0.5848019632713628, 'beta-galactosidase': 0.849073721231129, 'ribosome': 0.7635768790008489, 'thyroglobulin': 0.5778577801875177, 'virus-like-particle': 0.7354371986549904}. Best is trial 33 with value: 1.0014280829037505.\n"
     ]
    },
    {
     "name": "stdout",
     "output_type": "stream",
     "text": [
      "['TS_99_9']\n",
      " TS_99_9 virus-like-particle\n",
      "['TS_6_4']\n",
      " TS_6_4 virus-like-particle\n",
      "['TS_6_6']\n",
      " TS_6_6 virus-like-particle\n",
      "['TS_69_2']\n",
      " TS_69_2 virus-like-particle\n",
      "['TS_73_6']\n",
      " TS_73_6 virus-like-particle\n",
      "['TS_86_3']\n",
      " TS_86_3 virus-like-particle\n",
      "['TS_5_4']\n",
      " TS_5_4 virus-like-particle"
     ]
    },
    {
     "name": "stderr",
     "output_type": "stream",
     "text": [
      "[I 2025-01-30 04:26:58,604] Trial 44 finished with value: 0.9944408156543769 and parameters: {'apo-ferritin': 0.5261309885166461, 'beta-galactosidase': 0.8874752606702315, 'ribosome': 0.7258529246793032, 'thyroglobulin': 0.558465859939543, 'virus-like-particle': 0.7819015315787832}. Best is trial 33 with value: 1.0014280829037505.\n"
     ]
    },
    {
     "name": "stdout",
     "output_type": "stream",
     "text": [
      "\n",
      "['TS_99_9']\n",
      " TS_99_9 virus-like-particle\n",
      "['TS_6_4']\n",
      " TS_6_4 virus-like-particle\n",
      "['TS_6_6']\n",
      " TS_6_6 virus-like-particle\n",
      "['TS_69_2']\n",
      " TS_69_2 virus-like-particle\n",
      "['TS_73_6']\n",
      " TS_73_6 virus-like-particle\n",
      "['TS_86_3']\n",
      " TS_86_3 virus-like-particle\n",
      "['TS_5_4']\n",
      " TS_5_4 virus-like-particle"
     ]
    },
    {
     "name": "stderr",
     "output_type": "stream",
     "text": [
      "[I 2025-01-30 04:27:45,226] Trial 45 finished with value: 0.9960772970846727 and parameters: {'apo-ferritin': 0.6390214239397625, 'beta-galactosidase': 0.9408283811747331, 'ribosome': 0.6834957102049843, 'thyroglobulin': 0.5262543664812238, 'virus-like-particle': 0.8396118560879329}. Best is trial 33 with value: 1.0014280829037505.\n"
     ]
    },
    {
     "name": "stdout",
     "output_type": "stream",
     "text": [
      "\n",
      "['TS_99_9']\n",
      " TS_99_9 virus-like-particle\n",
      "['TS_6_4']\n",
      " TS_6_4 virus-like-particle\n",
      "['TS_6_6']\n",
      " TS_6_6 virus-like-particle\n",
      "['TS_69_2']\n",
      " TS_69_2 virus-like-particle\n",
      "['TS_73_6']\n",
      " TS_73_6 virus-like-particle\n",
      "['TS_86_3']\n",
      " TS_86_3 virus-like-particle\n",
      "['TS_5_4']\n",
      " TS_5_4 virus-like-particle"
     ]
    },
    {
     "name": "stderr",
     "output_type": "stream",
     "text": [
      "[I 2025-01-30 04:28:31,562] Trial 46 finished with value: 0.9723766623457877 and parameters: {'apo-ferritin': 0.6805467931880202, 'beta-galactosidase': 0.9651997101893173, 'ribosome': 0.8391534744639297, 'thyroglobulin': 0.6080582897778727, 'virus-like-particle': 0.9097780891977599}. Best is trial 33 with value: 1.0014280829037505.\n"
     ]
    },
    {
     "name": "stdout",
     "output_type": "stream",
     "text": [
      "\n",
      "['TS_99_9']\n",
      " TS_99_9 virus-like-particle\n",
      "['TS_6_4']\n",
      " TS_6_4 virus-like-particle\n",
      "['TS_6_6']\n",
      " TS_6_6 virus-like-particle\n",
      "['TS_69_2']\n",
      " TS_69_2 virus-like-particle\n",
      "['TS_73_6']\n",
      " TS_73_6 virus-like-particle\n",
      "['TS_86_3']\n",
      " TS_86_3 virus-like-particle\n",
      "['TS_5_4']\n",
      " TS_5_4 virus-like-particle"
     ]
    },
    {
     "name": "stderr",
     "output_type": "stream",
     "text": [
      "[I 2025-01-30 04:29:16,086] Trial 47 finished with value: 1.0023438893745318 and parameters: {'apo-ferritin': 0.5002733727905936, 'beta-galactosidase': 0.8560637150342462, 'ribosome': 0.6675785100335182, 'thyroglobulin': 0.5012172476510953, 'virus-like-particle': 0.7247879252485406}. Best is trial 47 with value: 1.0023438893745318.\n"
     ]
    },
    {
     "name": "stdout",
     "output_type": "stream",
     "text": [
      "\n",
      "['TS_99_9']\n",
      " TS_99_9 virus-like-particle\n",
      "['TS_6_4']\n",
      " TS_6_4 virus-like-particle\n",
      "['TS_6_6']\n",
      " TS_6_6 virus-like-particle\n",
      "['TS_69_2']\n",
      " TS_69_2 virus-like-particle\n",
      "['TS_73_6']\n",
      " TS_73_6 virus-like-particle\n",
      "['TS_86_3']\n",
      " TS_86_3 virus-like-particle\n",
      "['TS_5_4']\n",
      " TS_5_4 virus-like-particle"
     ]
    },
    {
     "name": "stderr",
     "output_type": "stream",
     "text": [
      "[I 2025-01-30 04:30:00,900] Trial 48 finished with value: 0.999273218899391 and parameters: {'apo-ferritin': 0.5007696967945715, 'beta-galactosidase': 0.842713283404142, 'ribosome': 0.6695325096638413, 'thyroglobulin': 0.5612182896421284, 'virus-like-particle': 0.996387384261614}. Best is trial 47 with value: 1.0023438893745318.\n"
     ]
    },
    {
     "name": "stdout",
     "output_type": "stream",
     "text": [
      "\n",
      "['TS_99_9']\n",
      " TS_99_9 virus-like-particle\n",
      "['TS_6_4']\n",
      " TS_6_4 virus-like-particle\n",
      "['TS_6_6']\n",
      " TS_6_6 virus-like-particle\n",
      "['TS_69_2']\n",
      " TS_69_2 virus-like-particle\n",
      "['TS_73_6']\n",
      " TS_73_6 virus-like-particle\n",
      "['TS_86_3']\n",
      " TS_86_3 virus-like-particle\n",
      "['TS_5_4']\n",
      " TS_5_4 virus-like-particle"
     ]
    },
    {
     "name": "stderr",
     "output_type": "stream",
     "text": [
      "[I 2025-01-30 04:30:48,113] Trial 49 finished with value: 0.9418580222769791 and parameters: {'apo-ferritin': 0.5229266816652135, 'beta-galactosidase': 0.9232330554049846, 'ribosome': 0.9368925800245198, 'thyroglobulin': 0.5248672157677008, 'virus-like-particle': 0.8147497989285986}. Best is trial 47 with value: 1.0023438893745318.\n"
     ]
    },
    {
     "name": "stdout",
     "output_type": "stream",
     "text": [
      "\n",
      "Best parameters: {'apo-ferritin': 0.5002733727905936, 'beta-galactosidase': 0.8560637150342462, 'ribosome': 0.6675785100335182, 'thyroglobulin': 0.5012172476510953, 'virus-like-particle': 0.7247879252485406}\n",
      "Best score: 1.0023438893745318\n"
     ]
    }
   ],
   "source": [
    "LAMBDA = 0.0001\n",
    "def objective(trial):\n",
    "    # 各パラメータを最適化する\n",
    "    mask_size2 = {\n",
    "        'defolt': 1,\n",
    "        'apo-ferritin': trial.suggest_float(\"apo-ferritin\", 0.5, 1.0) * mask_size[\"apo-ferritin\"],\n",
    "        'beta-amylase': 0.01,\n",
    "        'beta-galactosidase': trial.suggest_float(\"beta-galactosidase\", 0.5, 1) * mask_size[\"beta-galactosidase\"],\n",
    "        'ribosome': trial.suggest_float(\"ribosome\", 0.5, 1.0) * mask_size[\"ribosome\"],\n",
    "        'thyroglobulin': trial.suggest_float(\"thyroglobulin\", 0.5, 1.0) * mask_size[\"thyroglobulin\"],\n",
    "        'virus-like-particle': trial.suggest_float(\"virus-like-particle\", 0.5, 1.0) * mask_size[\"virus-like-particle\"],\n",
    "    }\n",
    "\n",
    "    # IDリスト\n",
    "    id_list = ['TS_99_9', \"TS_6_4\", \"TS_6_6\", \"TS_69_2\", \"TS_73_6\", \"TS_86_3\",\"TS_5_4\"]\n",
    "    \n",
    "    # 評価スコアの計算\n",
    "    lb_scores = []\n",
    "    for ids in id_list:\n",
    "        _, lb_score = mask_check(ids, mask_size2, cfg)\n",
    "        lb_scores.append(lb_score)\n",
    "\n",
    "    mean_lb_score = np.mean(lb_scores)\n",
    "    total_mask_size = sum(mask_size2.values())\n",
    "    \n",
    "    return mean_lb_score + LAMBDA * total_mask_size\n",
    "\n",
    "# Optunaの最適化\n",
    "study = optuna.create_study(direction=\"maximize\")\n",
    "study.optimize(objective, n_trials=50)\n",
    "\n",
    "# 最適なパラメータを表示\n",
    "print(\"Best parameters:\", study.best_params)\n",
    "print(\"Best score:\", study.best_value)"
   ]
  },
  {
   "cell_type": "code",
   "execution_count": 7,
   "metadata": {},
   "outputs": [
    {
     "data": {
      "text/plain": [
       "{'defolt': 1,\n",
       " 'apo-ferritin': 3.0016402367435617,\n",
       " 'beta-amylase': 0.01,\n",
       " 'beta-galactosidase': 7.704573435308215,\n",
       " 'ribosome': 10.013677650502773,\n",
       " 'thyroglobulin': 6.515824219464239,\n",
       " 'virus-like-particle': 9.784636990855299}"
      ]
     },
     "execution_count": 7,
     "metadata": {},
     "output_type": "execute_result"
    }
   ],
   "source": [
    "mask_size2"
   ]
  },
  {
   "cell_type": "code",
   "execution_count": 8,
   "metadata": {},
   "outputs": [
    {
     "data": {
      "text/plain": [
       "{'apo-ferritin': 0.5002733727905936,\n",
       " 'beta-galactosidase': 0.8560637150342462,\n",
       " 'ribosome': 0.6675785100335182,\n",
       " 'thyroglobulin': 0.5012172476510953,\n",
       " 'virus-like-particle': 0.7247879252485406}"
      ]
     },
     "execution_count": 8,
     "metadata": {},
     "output_type": "execute_result"
    }
   ],
   "source": [
    "best_params"
   ]
  },
  {
   "cell_type": "code",
   "execution_count": 6,
   "metadata": {},
   "outputs": [
    {
     "name": "stdout",
     "output_type": "stream",
     "text": [
      "['TS_99_9']\n",
      " TS_99_9 virus-like-particle\n",
      "         particle_type   P   T  hit  miss  fp  precision  recall  f-beta4  \\\n",
      "0         apo-ferritin  36  36   36     0   0        1.0     1.0      1.0   \n",
      "1         beta-amylase  21  21   21     0   0        1.0     1.0      1.0   \n",
      "2   beta-galactosidase  24  24   24     0   0        1.0     1.0      1.0   \n",
      "3             ribosome  65  65   65     0   0        1.0     1.0      1.0   \n",
      "4        thyroglobulin  49  49   49     0   0        1.0     1.0      1.0   \n",
      "5  virus-like-particle  13  13   13     0   0        1.0     1.0      1.0   \n",
      "\n",
      "   weight  \n",
      "0       1  \n",
      "1       0  \n",
      "2       2  \n",
      "3       1  \n",
      "4       2  \n",
      "5       1  \n",
      "['TS_6_4']\n",
      " TS_6_4 virus-like-particle\n",
      "         particle_type   P   T  hit  miss  fp  precision    recall   f-beta4  \\\n",
      "0         apo-ferritin  58  58   58     0   0   1.000000  1.000000  1.000000   \n",
      "1         beta-amylase   8   9    8     1   0   1.000000  0.888889  0.894737   \n",
      "2   beta-galactosidase  12  12   12     0   0   1.000000  1.000000  1.000000   \n",
      "3             ribosome  73  74   72     2   1   0.986301  0.972973  0.973747   \n",
      "4        thyroglobulin  30  30   30     0   0   1.000000  1.000000  1.000000   \n",
      "5  virus-like-particle  10  10   10     0   0   1.000000  1.000000  1.000000   \n",
      "\n",
      "   weight  \n",
      "0       1  \n",
      "1       0  \n",
      "2       2  \n",
      "3       1  \n",
      "4       2  \n",
      "5       1  \n",
      "['TS_6_6']\n",
      " TS_6_6 virus-like-particle\n",
      "         particle_type   P   T  hit  miss  fp  precision  recall  f-beta4  \\\n",
      "0         apo-ferritin  41  41   41     0   0        1.0     1.0      1.0   \n",
      "1         beta-amylase  14  14   14     0   0        1.0     1.0      1.0   \n",
      "2   beta-galactosidase  11  11   11     0   0        1.0     1.0      1.0   \n",
      "3             ribosome  23  23   23     0   0        1.0     1.0      1.0   \n",
      "4        thyroglobulin  35  35   35     0   0        1.0     1.0      1.0   \n",
      "5  virus-like-particle  19  19   19     0   0        1.0     1.0      1.0   \n",
      "\n",
      "   weight  \n",
      "0       1  \n",
      "1       0  \n",
      "2       2  \n",
      "3       1  \n",
      "4       2  \n",
      "5       1  \n",
      "['TS_69_2']\n",
      " TS_69_2 virus-like-particle\n",
      "         particle_type   P   T  hit  miss  fp  precision  recall  f-beta4  \\\n",
      "0         apo-ferritin  35  35   35     0   0        1.0     1.0      1.0   \n",
      "1         beta-amylase  12  12   12     0   0        1.0     1.0      1.0   \n",
      "2   beta-galactosidase  16  16   16     0   0        1.0     1.0      1.0   \n",
      "3             ribosome  37  37   37     0   0        1.0     1.0      1.0   \n",
      "4        thyroglobulin  34  34   34     0   0        1.0     1.0      1.0   \n",
      "5  virus-like-particle   9   9    9     0   0        1.0     1.0      1.0   \n",
      "\n",
      "   weight  \n",
      "0       1  \n",
      "1       0  \n",
      "2       2  \n",
      "3       1  \n",
      "4       2  \n",
      "5       1  \n",
      "['TS_73_6']\n",
      " TS_73_6 virus-like-particle\n",
      "         particle_type   P   T  hit  miss  fp  precision    recall   f-beta4  \\\n",
      "0         apo-ferritin  94  95   94     1   0        1.0  0.989474  0.990087   \n",
      "1         beta-amylase  12  12   12     0   0        1.0  1.000000  1.000000   \n",
      "2   beta-galactosidase  14  14   14     0   0        1.0  1.000000  1.000000   \n",
      "3             ribosome  46  46   46     0   0        1.0  1.000000  1.000000   \n",
      "4        thyroglobulin  28  28   28     0   0        1.0  1.000000  1.000000   \n",
      "5  virus-like-particle  22  22   22     0   0        1.0  1.000000  1.000000   \n",
      "\n",
      "   weight  \n",
      "0       1  \n",
      "1       0  \n",
      "2       2  \n",
      "3       1  \n",
      "4       2  \n",
      "5       1  \n",
      "['TS_86_3']\n",
      " TS_86_3 virus-like-particle\n",
      "         particle_type   P   T  hit  miss  fp  precision    recall   f-beta4  \\\n",
      "0         apo-ferritin  64  64   64     0   0   1.000000  1.000000  1.000000   \n",
      "1         beta-amylase   9   9    9     0   0   1.000000  1.000000  1.000000   \n",
      "2   beta-galactosidase  23  23   23     0   0   1.000000  1.000000  1.000000   \n",
      "3             ribosome  54  55   53     2   1   0.981481  0.963636  0.964668   \n",
      "4        thyroglobulin  45  45   45     0   0   1.000000  1.000000  1.000000   \n",
      "5  virus-like-particle  29  29   29     0   0   1.000000  1.000000  1.000000   \n",
      "\n",
      "   weight  \n",
      "0       1  \n",
      "1       0  \n",
      "2       2  \n",
      "3       1  \n",
      "4       2  \n",
      "5       1  \n",
      "['TS_5_4']\n",
      " TS_5_4 virus-like-particle\n",
      "         particle_type   P   T  hit  miss  fp  precision  recall   f-beta4  \\\n",
      "0         apo-ferritin  46  46   46     0   0        1.0     1.0  1.000000   \n",
      "1         beta-amylase   8  10    8     2   0        1.0     0.8  0.809524   \n",
      "2   beta-galactosidase  12  12   12     0   0        1.0     1.0  1.000000   \n",
      "3             ribosome  31  31   31     0   0        1.0     1.0  1.000000   \n",
      "4        thyroglobulin  30  30   30     0   0        1.0     1.0  1.000000   \n",
      "5  virus-like-particle  11  11   11     0   0        1.0     1.0  1.000000   \n",
      "\n",
      "   weight  \n",
      "0       1  \n",
      "1       0  \n",
      "2       2  \n",
      "3       1  \n",
      "4       2  \n",
      "5       1  \n"
     ]
    }
   ],
   "source": [
    "# 最適なパラメータを取得\n",
    "best_params = study.best_params\n",
    "\n",
    "# デバッグ用 mask_size2 の作成\n",
    "mask_size2 = {\n",
    "    'defolt': 1,\n",
    "    'apo-ferritin': best_params[\"apo-ferritin\"] * mask_size[\"apo-ferritin\"],\n",
    "    'beta-amylase': 0.01,  # 固定値\n",
    "    'beta-galactosidase': best_params[\"beta-galactosidase\"] * mask_size[\"beta-galactosidase\"],\n",
    "    'ribosome': best_params[\"ribosome\"] * mask_size[\"ribosome\"],\n",
    "    'thyroglobulin': best_params[\"thyroglobulin\"] * mask_size[\"thyroglobulin\"],\n",
    "    'virus-like-particle': best_params[\"virus-like-particle\"] * mask_size[\"virus-like-particle\"],\n",
    "}\n",
    "\n",
    "id_list = ['TS_99_9', \"TS_6_4\", \"TS_6_6\", \"TS_69_2\", \"TS_73_6\", \"TS_86_3\",\"TS_5_4\"]\n",
    "for ids in id_list:\n",
    "    lb, lb_score = mask_check(ids, mask_size2, cfg)\n",
    "    print(lb)"
   ]
  },
  {
   "cell_type": "code",
   "execution_count": 14,
   "metadata": {},
   "outputs": [
    {
     "data": {
      "text/plain": [
       "{'apo-ferritin': 0.3975137043063831,\n",
       " 'beta-galactosidase': 0.8351340745406122,\n",
       " 'ribosome': 0.9397823772094265,\n",
       " 'thyroglobulin': 0.5643048741101144,\n",
       " 'virus-like-particle': 0.8332201163209894,\n",
       " 'beta-amylase': 0.01}"
      ]
     },
     "execution_count": 14,
     "metadata": {},
     "output_type": "execute_result"
    }
   ],
   "source": [
    "mask_size2"
   ]
  }
 ],
 "metadata": {
  "kernelspec": {
   "display_name": "ultralytics-env",
   "language": "python",
   "name": "python3"
  },
  "language_info": {
   "codemirror_mode": {
    "name": "ipython",
    "version": 3
   },
   "file_extension": ".py",
   "mimetype": "text/x-python",
   "name": "python",
   "nbconvert_exporter": "python",
   "pygments_lexer": "ipython3",
   "version": "3.11.11"
  }
 },
 "nbformat": 4,
 "nbformat_minor": 2
}
