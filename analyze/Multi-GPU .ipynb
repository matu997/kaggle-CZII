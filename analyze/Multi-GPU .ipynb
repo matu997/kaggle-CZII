{
 "cells": [
  {
   "cell_type": "code",
   "execution_count": 1,
   "metadata": {},
   "outputs": [
    {
     "name": "stderr",
     "output_type": "stream",
     "text": [
      "/home2/y2023/m2311203/.conda/envs/ultralytics-env/lib/python3.11/site-packages/tqdm/auto.py:21: TqdmWarning: IProgress not found. Please update jupyter and ipywidgets. See https://ipywidgets.readthedocs.io/en/stable/user_install.html\n",
      "  from .autonotebook import tqdm as notebook_tqdm\n"
     ]
    }
   ],
   "source": [
    "from datetime import datetime\n",
    "import pytz\n",
    "import os\n",
    "import numpy as np\n",
    "import torch\n",
    "import torch.nn.functional as F\n",
    "from torch.utils.data import DataLoader, Dataset\n",
    "from model import Net,run_check_net\n",
    "from dataset import read_one_data, read_one_truth\n",
    "from czii_helper import dotdict"
   ]
  },
  {
   "cell_type": "code",
   "execution_count": 2,
   "metadata": {},
   "outputs": [
    {
     "name": "stderr",
     "output_type": "stream",
     "text": [
      "/tmp/ipykernel_3746526/3241529124.py:15: FutureWarning: `torch.cuda.amp.autocast(args...)` is deprecated. Please use `torch.amp.autocast('cuda', args...)` instead.\n",
      "  with torch.cuda.amp.autocast(enabled=True):\n"
     ]
    },
    {
     "name": "stdout",
     "output_type": "stream",
     "text": [
      "batch\n",
      "                           image : torch.Size([2, 64, 640, 640]) \n",
      "                            mask : torch.Size([2, 64, 640, 640]) \n",
      "output\n",
      "                        particle : torch.Size([2, 7, 64, 640, 640]) \n",
      "loss\n",
      "                       mask_loss : 2.0171117782592773 \n"
     ]
    }
   ],
   "source": [
    "B = 2\n",
    "image_size = 640\n",
    "mask_size  = 640\n",
    "num_slice = 64 #184\n",
    "num_class=6+1\n",
    "\n",
    "batch = {\n",
    "    'image': torch.from_numpy(np.random.uniform(0,1, (B,num_slice, image_size, image_size))).float(),\n",
    "    'mask': torch.from_numpy(np.random.choice(num_class, (B, num_slice, mask_size, mask_size))).long(),\n",
    "}\n",
    "\n",
    "net = Net(pretrained=True, cfg=None).cuda()\n",
    "\n",
    "with torch.no_grad():\n",
    "    with torch.cuda.amp.autocast(enabled=True):\n",
    "        output = net(batch)\n",
    "# ---\n",
    "print('batch')\n",
    "for k, v in batch.items():\n",
    "    if k == 'D':\n",
    "        print(f'{k:>32} : {v} ')\n",
    "    else:\n",
    "        print(f'{k:>32} : {v.shape} ')\n",
    "\n",
    "print('output')\n",
    "for k, v in output.items():\n",
    "    if 'loss' not in k:\n",
    "        print(f'{k:>32} : {v.shape} ')\n",
    "print('loss')\n",
    "for k, v in output.items():\n",
    "    if 'loss' in k:\n",
    "        print(f'{k:>32} : {v.item()} ')\n"
   ]
  },
  {
   "cell_type": "code",
   "execution_count": 5,
   "metadata": {},
   "outputs": [
    {
     "data": {
      "text/plain": [
       "torch.Size([2, 7, 64, 640, 640])"
      ]
     },
     "execution_count": 5,
     "metadata": {},
     "output_type": "execute_result"
    }
   ],
   "source": [
    "output[\"particle\"].shape"
   ]
  }
 ],
 "metadata": {
  "kernelspec": {
   "display_name": "ultralytics-env",
   "language": "python",
   "name": "python3"
  },
  "language_info": {
   "codemirror_mode": {
    "name": "ipython",
    "version": 3
   },
   "file_extension": ".py",
   "mimetype": "text/x-python",
   "name": "python",
   "nbconvert_exporter": "python",
   "pygments_lexer": "ipython3",
   "version": "3.11.11"
  }
 },
 "nbformat": 4,
 "nbformat_minor": 2
}
