{
 "cells": [
  {
   "cell_type": "code",
   "execution_count": 1,
   "metadata": {},
   "outputs": [
    {
     "name": "stderr",
     "output_type": "stream",
     "text": [
      "/home2/y2023/m2311203/.conda/envs/ultralytics-env/lib/python3.11/site-packages/tqdm/auto.py:21: TqdmWarning: IProgress not found. Please update jupyter and ipywidgets. See https://ipywidgets.readthedocs.io/en/stable/user_install.html\n",
      "  from .autonotebook import tqdm as notebook_tqdm\n"
     ]
    }
   ],
   "source": [
    "import torch\n",
    "import torch.nn as nn\n",
    "import torch.nn.functional as F\n",
    "import numpy as np\n",
    "\n",
    "from datetime import datetime\n",
    "import pytz\n",
    "import os\n",
    "import numpy as np\n",
    "import torch\n",
    "import timm\n",
    "import torch.nn.functional as F\n",
    "from torch.utils.data import DataLoader, Dataset\n",
    "from model import Net,run_check_net\n",
    "from dataset import read_one_data, read_one_truth\n",
    "from czii_helper import dotdict\n",
    "import timm\n",
    "\n",
    "import cc3d\n",
    "from dataset import *"
   ]
  },
  {
   "cell_type": "code",
   "execution_count": 2,
   "metadata": {},
   "outputs": [
    {
     "name": "stderr",
     "output_type": "stream",
     "text": [
      "/home2/y2023/m2311203/notebook/kaggle-CZII /analyze/model.py:161: FutureWarning: `torch.cuda.amp.autocast(args...)` is deprecated. Please use `torch.amp.autocast('cuda', args...)` instead.\n",
      "  with torch.cuda.amp.autocast(enabled=True):\n"
     ]
    },
    {
     "name": "stdout",
     "output_type": "stream",
     "text": [
      "encode_0 torch.Size([4, 64, 16, 320, 320])\n",
      "encode_1 torch.Size([4, 64, 8, 160, 160])\n",
      "encode_2 torch.Size([4, 128, 4, 80, 80])\n",
      "encode_3 torch.Size([4, 256, 2, 40, 40])\n",
      "encode_4 torch.Size([4, 512, 2, 20, 20])\n",
      "batch\n",
      "                           image : torch.Size([4, 32, 640, 640]) \n",
      "                            mask : torch.Size([4, 32, 640, 640]) \n",
      "output\n",
      "                        particle : torch.Size([4, 7, 32, 640, 640]) \n",
      "loss\n",
      "                       mask_loss : 2.0153844356536865 \n"
     ]
    }
   ],
   "source": [
    "run_check_net()"
   ]
  }
 ],
 "metadata": {
  "kernelspec": {
   "display_name": "ultralytics-env",
   "language": "python",
   "name": "python3"
  },
  "language_info": {
   "codemirror_mode": {
    "name": "ipython",
    "version": 3
   },
   "file_extension": ".py",
   "mimetype": "text/x-python",
   "name": "python",
   "nbconvert_exporter": "python",
   "pygments_lexer": "ipython3",
   "version": "3.11.11"
  }
 },
 "nbformat": 4,
 "nbformat_minor": 2
}
